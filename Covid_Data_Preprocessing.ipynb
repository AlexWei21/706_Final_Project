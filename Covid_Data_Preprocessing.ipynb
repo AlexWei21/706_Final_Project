{
 "cells": [
  {
   "cell_type": "code",
   "execution_count": 1,
   "metadata": {
    "collapsed": true
   },
   "outputs": [],
   "source": [
    "import pandas as pd\n",
    "import numpy as np"
   ]
  },
  {
   "cell_type": "code",
   "execution_count": 2,
   "outputs": [],
   "source": [
    "glob_cases=pd.read_csv(\"https://raw.githubusercontent.com/CSSEGISandData/COVID-19/master/csse_covid_19_data/csse_covid_19_time_series/time_series_covid19_confirmed_global.csv\")\n",
    "glob_recovered=pd.read_csv(\"https://raw.githubusercontent.com/CSSEGISandData/COVID-19/master/csse_covid_19_data/csse_covid_19_time_series/time_series_covid19_recovered_global.csv\")\n",
    "glob_deaths=pd.read_csv(\"https://raw.githubusercontent.com/CSSEGISandData/COVID-19/master/csse_covid_19_data/csse_covid_19_time_series/time_series_covid19_deaths_global.csv\")\n",
    "glob_vacc=pd.read_csv(\"https://raw.githubusercontent.com/govex/COVID-19/master/data_tables/vaccine_data/global_data/time_series_covid19_vaccine_global.csv\")\n",
    "glob_vac_admin=pd.read_csv(\"https://raw.githubusercontent.com/govex/COVID-19/master/data_tables/vaccine_data/global_data/time_series_covid19_vaccine_doses_admin_global.csv\")"
   ],
   "metadata": {
    "collapsed": false,
    "pycharm": {
     "name": "#%%\n"
    }
   }
  },
  {
   "cell_type": "code",
   "execution_count": 9,
   "outputs": [
    {
     "data": {
      "text/plain": "            Country_Region        Date   Doses_admin  \\\n0                   Canada  2020-12-14  5.000000e+00   \n1                    World  2020-12-14  5.000000e+00   \n2                   Canada  2020-12-15  7.230000e+02   \n3                    China  2020-12-15  1.500000e+06   \n4                   Russia  2020-12-15  2.850000e+04   \n...                    ...         ...           ...   \n220743  West Bank and Gaza  2022-04-27  3.718981e+06   \n220744               World  2022-04-27  1.132536e+10   \n220745               Yemen  2022-04-27  8.218530e+05   \n220746              Zambia  2022-04-27  3.478542e+06   \n220747            Zimbabwe  2022-04-27  1.023125e+07   \n\n        People_partially_vaccinated  People_fully_vaccinated  \\\n0                      0.000000e+00             0.000000e+00   \n1                      0.000000e+00             0.000000e+00   \n2                      0.000000e+00             0.000000e+00   \n3                      0.000000e+00             0.000000e+00   \n4                      2.850000e+04             0.000000e+00   \n...                             ...                      ...   \n220743                          NaN                      NaN   \n220744                 4.941723e+09             4.468777e+09   \n220745                 6.569570e+05             4.187850e+05   \n220746                 2.829929e+06             2.398679e+06   \n220747                 5.841440e+06             3.651987e+06   \n\n       Report_Date_String    UID Province_State  \n0              2020-12-14  124.0            NaN  \n1              2020-12-14    NaN            NaN  \n2              2020-12-15  124.0            NaN  \n3              2020-12-15  156.0            NaN  \n4              2020-12-15  643.0            NaN  \n...                   ...    ...            ...  \n220743         2022-04-28  275.0            NaN  \n220744         2022-04-28    NaN            NaN  \n220745         2022-04-28  887.0            NaN  \n220746         2022-04-28  894.0            NaN  \n220747         2022-04-28  716.0            NaN  \n\n[220748 rows x 8 columns]",
      "text/html": "<div>\n<style scoped>\n    .dataframe tbody tr th:only-of-type {\n        vertical-align: middle;\n    }\n\n    .dataframe tbody tr th {\n        vertical-align: top;\n    }\n\n    .dataframe thead th {\n        text-align: right;\n    }\n</style>\n<table border=\"1\" class=\"dataframe\">\n  <thead>\n    <tr style=\"text-align: right;\">\n      <th></th>\n      <th>Country_Region</th>\n      <th>Date</th>\n      <th>Doses_admin</th>\n      <th>People_partially_vaccinated</th>\n      <th>People_fully_vaccinated</th>\n      <th>Report_Date_String</th>\n      <th>UID</th>\n      <th>Province_State</th>\n    </tr>\n  </thead>\n  <tbody>\n    <tr>\n      <th>0</th>\n      <td>Canada</td>\n      <td>2020-12-14</td>\n      <td>5.000000e+00</td>\n      <td>0.000000e+00</td>\n      <td>0.000000e+00</td>\n      <td>2020-12-14</td>\n      <td>124.0</td>\n      <td>NaN</td>\n    </tr>\n    <tr>\n      <th>1</th>\n      <td>World</td>\n      <td>2020-12-14</td>\n      <td>5.000000e+00</td>\n      <td>0.000000e+00</td>\n      <td>0.000000e+00</td>\n      <td>2020-12-14</td>\n      <td>NaN</td>\n      <td>NaN</td>\n    </tr>\n    <tr>\n      <th>2</th>\n      <td>Canada</td>\n      <td>2020-12-15</td>\n      <td>7.230000e+02</td>\n      <td>0.000000e+00</td>\n      <td>0.000000e+00</td>\n      <td>2020-12-15</td>\n      <td>124.0</td>\n      <td>NaN</td>\n    </tr>\n    <tr>\n      <th>3</th>\n      <td>China</td>\n      <td>2020-12-15</td>\n      <td>1.500000e+06</td>\n      <td>0.000000e+00</td>\n      <td>0.000000e+00</td>\n      <td>2020-12-15</td>\n      <td>156.0</td>\n      <td>NaN</td>\n    </tr>\n    <tr>\n      <th>4</th>\n      <td>Russia</td>\n      <td>2020-12-15</td>\n      <td>2.850000e+04</td>\n      <td>2.850000e+04</td>\n      <td>0.000000e+00</td>\n      <td>2020-12-15</td>\n      <td>643.0</td>\n      <td>NaN</td>\n    </tr>\n    <tr>\n      <th>...</th>\n      <td>...</td>\n      <td>...</td>\n      <td>...</td>\n      <td>...</td>\n      <td>...</td>\n      <td>...</td>\n      <td>...</td>\n      <td>...</td>\n    </tr>\n    <tr>\n      <th>220743</th>\n      <td>West Bank and Gaza</td>\n      <td>2022-04-27</td>\n      <td>3.718981e+06</td>\n      <td>NaN</td>\n      <td>NaN</td>\n      <td>2022-04-28</td>\n      <td>275.0</td>\n      <td>NaN</td>\n    </tr>\n    <tr>\n      <th>220744</th>\n      <td>World</td>\n      <td>2022-04-27</td>\n      <td>1.132536e+10</td>\n      <td>4.941723e+09</td>\n      <td>4.468777e+09</td>\n      <td>2022-04-28</td>\n      <td>NaN</td>\n      <td>NaN</td>\n    </tr>\n    <tr>\n      <th>220745</th>\n      <td>Yemen</td>\n      <td>2022-04-27</td>\n      <td>8.218530e+05</td>\n      <td>6.569570e+05</td>\n      <td>4.187850e+05</td>\n      <td>2022-04-28</td>\n      <td>887.0</td>\n      <td>NaN</td>\n    </tr>\n    <tr>\n      <th>220746</th>\n      <td>Zambia</td>\n      <td>2022-04-27</td>\n      <td>3.478542e+06</td>\n      <td>2.829929e+06</td>\n      <td>2.398679e+06</td>\n      <td>2022-04-28</td>\n      <td>894.0</td>\n      <td>NaN</td>\n    </tr>\n    <tr>\n      <th>220747</th>\n      <td>Zimbabwe</td>\n      <td>2022-04-27</td>\n      <td>1.023125e+07</td>\n      <td>5.841440e+06</td>\n      <td>3.651987e+06</td>\n      <td>2022-04-28</td>\n      <td>716.0</td>\n      <td>NaN</td>\n    </tr>\n  </tbody>\n</table>\n<p>220748 rows × 8 columns</p>\n</div>"
     },
     "execution_count": 9,
     "metadata": {},
     "output_type": "execute_result"
    }
   ],
   "source": [
    "glob_vacc"
   ],
   "metadata": {
    "collapsed": false,
    "pycharm": {
     "name": "#%%\n"
    }
   }
  },
  {
   "cell_type": "code",
   "execution_count": 15,
   "outputs": [
    {
     "data": {
      "text/plain": "{'US (Aggregate)', 'World'}"
     },
     "execution_count": 15,
     "metadata": {},
     "output_type": "execute_result"
    }
   ],
   "source": [
    "set(glob_vacc['Country_Region'].unique()) - set(glob_cases['Country/Region'].unique())"
   ],
   "metadata": {
    "collapsed": false,
    "pycharm": {
     "name": "#%%\n"
    }
   }
  },
  {
   "cell_type": "code",
   "execution_count": 16,
   "outputs": [
    {
     "data": {
      "text/plain": "{'Antarctica',\n 'Diamond Princess',\n 'Eritrea',\n 'Holy See',\n 'MS Zaandam',\n 'Summer Olympics 2020',\n 'Tonga',\n 'Winter Olympics 2022'}"
     },
     "execution_count": 16,
     "metadata": {},
     "output_type": "execute_result"
    }
   ],
   "source": [
    "set(glob_cases['Country/Region'].unique()) - set(glob_vacc['Country_Region'].unique())"
   ],
   "metadata": {
    "collapsed": false,
    "pycharm": {
     "name": "#%%\n"
    }
   }
  },
  {
   "cell_type": "code",
   "execution_count": 17,
   "outputs": [
    {
     "data": {
      "text/plain": "        Country_Region        Date  Doses_admin  People_partially_vaccinated  \\\n14203   US (Aggregate)  2021-05-11  262652684.0                  153448316.0   \n14469   US (Aggregate)  2021-05-12  264226655.0                  153986312.0   \n14735   US (Aggregate)  2021-05-13  266195707.0                  154624231.0   \n15062   US (Aggregate)  2021-05-14  268044971.0                  155251852.0   \n15389   US (Aggregate)  2021-05-15  270341312.0                  156217367.0   \n...                ...         ...          ...                          ...   \n217921  US (Aggregate)  2022-04-23  570180860.0                  257188688.0   \n218614  US (Aggregate)  2022-04-24  570566319.0                  257255601.0   \n219307  US (Aggregate)  2022-04-25  570762728.0                  257296710.0   \n220000  US (Aggregate)  2022-04-26  571538105.0                  257354769.0   \n220693  US (Aggregate)  2022-04-27  572216512.0                  257423254.0   \n\n        People_fully_vaccinated Report_Date_String    UID Province_State  \n14203               116576359.0         2021-05-12  840.0            NaN  \n14469               117647439.0         2021-05-13  840.0            NaN  \n14735               118987308.0         2021-05-14  840.0            NaN  \n15062               120258637.0         2021-05-15  840.0            NaN  \n15389               121768268.0         2021-05-16  840.0            NaN  \n...                         ...                ...    ...            ...  \n217921              219280491.0         2022-04-24  840.0            NaN  \n218614              219338297.0         2022-04-25  840.0            NaN  \n219307              219370557.0         2022-04-26  840.0            NaN  \n220000              219423356.0         2022-04-27  840.0            NaN  \n220693              219483386.0         2022-04-28  840.0            NaN  \n\n[352 rows x 8 columns]",
      "text/html": "<div>\n<style scoped>\n    .dataframe tbody tr th:only-of-type {\n        vertical-align: middle;\n    }\n\n    .dataframe tbody tr th {\n        vertical-align: top;\n    }\n\n    .dataframe thead th {\n        text-align: right;\n    }\n</style>\n<table border=\"1\" class=\"dataframe\">\n  <thead>\n    <tr style=\"text-align: right;\">\n      <th></th>\n      <th>Country_Region</th>\n      <th>Date</th>\n      <th>Doses_admin</th>\n      <th>People_partially_vaccinated</th>\n      <th>People_fully_vaccinated</th>\n      <th>Report_Date_String</th>\n      <th>UID</th>\n      <th>Province_State</th>\n    </tr>\n  </thead>\n  <tbody>\n    <tr>\n      <th>14203</th>\n      <td>US (Aggregate)</td>\n      <td>2021-05-11</td>\n      <td>262652684.0</td>\n      <td>153448316.0</td>\n      <td>116576359.0</td>\n      <td>2021-05-12</td>\n      <td>840.0</td>\n      <td>NaN</td>\n    </tr>\n    <tr>\n      <th>14469</th>\n      <td>US (Aggregate)</td>\n      <td>2021-05-12</td>\n      <td>264226655.0</td>\n      <td>153986312.0</td>\n      <td>117647439.0</td>\n      <td>2021-05-13</td>\n      <td>840.0</td>\n      <td>NaN</td>\n    </tr>\n    <tr>\n      <th>14735</th>\n      <td>US (Aggregate)</td>\n      <td>2021-05-13</td>\n      <td>266195707.0</td>\n      <td>154624231.0</td>\n      <td>118987308.0</td>\n      <td>2021-05-14</td>\n      <td>840.0</td>\n      <td>NaN</td>\n    </tr>\n    <tr>\n      <th>15062</th>\n      <td>US (Aggregate)</td>\n      <td>2021-05-14</td>\n      <td>268044971.0</td>\n      <td>155251852.0</td>\n      <td>120258637.0</td>\n      <td>2021-05-15</td>\n      <td>840.0</td>\n      <td>NaN</td>\n    </tr>\n    <tr>\n      <th>15389</th>\n      <td>US (Aggregate)</td>\n      <td>2021-05-15</td>\n      <td>270341312.0</td>\n      <td>156217367.0</td>\n      <td>121768268.0</td>\n      <td>2021-05-16</td>\n      <td>840.0</td>\n      <td>NaN</td>\n    </tr>\n    <tr>\n      <th>...</th>\n      <td>...</td>\n      <td>...</td>\n      <td>...</td>\n      <td>...</td>\n      <td>...</td>\n      <td>...</td>\n      <td>...</td>\n      <td>...</td>\n    </tr>\n    <tr>\n      <th>217921</th>\n      <td>US (Aggregate)</td>\n      <td>2022-04-23</td>\n      <td>570180860.0</td>\n      <td>257188688.0</td>\n      <td>219280491.0</td>\n      <td>2022-04-24</td>\n      <td>840.0</td>\n      <td>NaN</td>\n    </tr>\n    <tr>\n      <th>218614</th>\n      <td>US (Aggregate)</td>\n      <td>2022-04-24</td>\n      <td>570566319.0</td>\n      <td>257255601.0</td>\n      <td>219338297.0</td>\n      <td>2022-04-25</td>\n      <td>840.0</td>\n      <td>NaN</td>\n    </tr>\n    <tr>\n      <th>219307</th>\n      <td>US (Aggregate)</td>\n      <td>2022-04-25</td>\n      <td>570762728.0</td>\n      <td>257296710.0</td>\n      <td>219370557.0</td>\n      <td>2022-04-26</td>\n      <td>840.0</td>\n      <td>NaN</td>\n    </tr>\n    <tr>\n      <th>220000</th>\n      <td>US (Aggregate)</td>\n      <td>2022-04-26</td>\n      <td>571538105.0</td>\n      <td>257354769.0</td>\n      <td>219423356.0</td>\n      <td>2022-04-27</td>\n      <td>840.0</td>\n      <td>NaN</td>\n    </tr>\n    <tr>\n      <th>220693</th>\n      <td>US (Aggregate)</td>\n      <td>2022-04-27</td>\n      <td>572216512.0</td>\n      <td>257423254.0</td>\n      <td>219483386.0</td>\n      <td>2022-04-28</td>\n      <td>840.0</td>\n      <td>NaN</td>\n    </tr>\n  </tbody>\n</table>\n<p>352 rows × 8 columns</p>\n</div>"
     },
     "execution_count": 17,
     "metadata": {},
     "output_type": "execute_result"
    }
   ],
   "source": [
    "glob_vacc[glob_vacc['Country_Region'] == 'US (Aggregate)']"
   ],
   "metadata": {
    "collapsed": false,
    "pycharm": {
     "name": "#%%\n"
    }
   }
  },
  {
   "cell_type": "code",
   "execution_count": 18,
   "outputs": [
    {
     "data": {
      "text/plain": "       Country_Region        Date  Doses_admin  People_partially_vaccinated  \\\n27                 US  2020-12-20     556208.0                     556208.0   \n33                 US  2020-12-21     614117.0                     614117.0   \n40                 US  2020-12-22     614117.0                     614117.0   \n49                 US  2020-12-23    1008025.0                    1008025.0   \n61                 US  2020-12-24    1008025.0                    1008025.0   \n...               ...         ...          ...                          ...   \n217920             US  2022-04-23  572183620.0                  257188688.0   \n218613             US  2022-04-24  572595338.0                  257255601.0   \n219306             US  2022-04-25  572829658.0                  257296710.0   \n219999             US  2022-04-26  573582745.0                  257354769.0   \n220692             US  2022-04-27  574232736.0                  257423254.0   \n\n        People_fully_vaccinated Report_Date_String    UID Province_State  \n27                          0.0         2020-12-20  840.0            NaN  \n33                          0.0         2020-12-21  840.0            NaN  \n40                          0.0         2020-12-22  840.0            NaN  \n49                          0.0         2020-12-23  840.0            NaN  \n61                          0.0         2020-12-24  840.0            NaN  \n...                         ...                ...    ...            ...  \n217920              219280491.0         2022-04-24  840.0            NaN  \n218613              219338297.0         2022-04-25  840.0            NaN  \n219306              219370557.0         2022-04-26  840.0            NaN  \n219999              219423356.0         2022-04-27  840.0            NaN  \n220692              219483386.0         2022-04-28  840.0            NaN  \n\n[494 rows x 8 columns]",
      "text/html": "<div>\n<style scoped>\n    .dataframe tbody tr th:only-of-type {\n        vertical-align: middle;\n    }\n\n    .dataframe tbody tr th {\n        vertical-align: top;\n    }\n\n    .dataframe thead th {\n        text-align: right;\n    }\n</style>\n<table border=\"1\" class=\"dataframe\">\n  <thead>\n    <tr style=\"text-align: right;\">\n      <th></th>\n      <th>Country_Region</th>\n      <th>Date</th>\n      <th>Doses_admin</th>\n      <th>People_partially_vaccinated</th>\n      <th>People_fully_vaccinated</th>\n      <th>Report_Date_String</th>\n      <th>UID</th>\n      <th>Province_State</th>\n    </tr>\n  </thead>\n  <tbody>\n    <tr>\n      <th>27</th>\n      <td>US</td>\n      <td>2020-12-20</td>\n      <td>556208.0</td>\n      <td>556208.0</td>\n      <td>0.0</td>\n      <td>2020-12-20</td>\n      <td>840.0</td>\n      <td>NaN</td>\n    </tr>\n    <tr>\n      <th>33</th>\n      <td>US</td>\n      <td>2020-12-21</td>\n      <td>614117.0</td>\n      <td>614117.0</td>\n      <td>0.0</td>\n      <td>2020-12-21</td>\n      <td>840.0</td>\n      <td>NaN</td>\n    </tr>\n    <tr>\n      <th>40</th>\n      <td>US</td>\n      <td>2020-12-22</td>\n      <td>614117.0</td>\n      <td>614117.0</td>\n      <td>0.0</td>\n      <td>2020-12-22</td>\n      <td>840.0</td>\n      <td>NaN</td>\n    </tr>\n    <tr>\n      <th>49</th>\n      <td>US</td>\n      <td>2020-12-23</td>\n      <td>1008025.0</td>\n      <td>1008025.0</td>\n      <td>0.0</td>\n      <td>2020-12-23</td>\n      <td>840.0</td>\n      <td>NaN</td>\n    </tr>\n    <tr>\n      <th>61</th>\n      <td>US</td>\n      <td>2020-12-24</td>\n      <td>1008025.0</td>\n      <td>1008025.0</td>\n      <td>0.0</td>\n      <td>2020-12-24</td>\n      <td>840.0</td>\n      <td>NaN</td>\n    </tr>\n    <tr>\n      <th>...</th>\n      <td>...</td>\n      <td>...</td>\n      <td>...</td>\n      <td>...</td>\n      <td>...</td>\n      <td>...</td>\n      <td>...</td>\n      <td>...</td>\n    </tr>\n    <tr>\n      <th>217920</th>\n      <td>US</td>\n      <td>2022-04-23</td>\n      <td>572183620.0</td>\n      <td>257188688.0</td>\n      <td>219280491.0</td>\n      <td>2022-04-24</td>\n      <td>840.0</td>\n      <td>NaN</td>\n    </tr>\n    <tr>\n      <th>218613</th>\n      <td>US</td>\n      <td>2022-04-24</td>\n      <td>572595338.0</td>\n      <td>257255601.0</td>\n      <td>219338297.0</td>\n      <td>2022-04-25</td>\n      <td>840.0</td>\n      <td>NaN</td>\n    </tr>\n    <tr>\n      <th>219306</th>\n      <td>US</td>\n      <td>2022-04-25</td>\n      <td>572829658.0</td>\n      <td>257296710.0</td>\n      <td>219370557.0</td>\n      <td>2022-04-26</td>\n      <td>840.0</td>\n      <td>NaN</td>\n    </tr>\n    <tr>\n      <th>219999</th>\n      <td>US</td>\n      <td>2022-04-26</td>\n      <td>573582745.0</td>\n      <td>257354769.0</td>\n      <td>219423356.0</td>\n      <td>2022-04-27</td>\n      <td>840.0</td>\n      <td>NaN</td>\n    </tr>\n    <tr>\n      <th>220692</th>\n      <td>US</td>\n      <td>2022-04-27</td>\n      <td>574232736.0</td>\n      <td>257423254.0</td>\n      <td>219483386.0</td>\n      <td>2022-04-28</td>\n      <td>840.0</td>\n      <td>NaN</td>\n    </tr>\n  </tbody>\n</table>\n<p>494 rows × 8 columns</p>\n</div>"
     },
     "execution_count": 18,
     "metadata": {},
     "output_type": "execute_result"
    }
   ],
   "source": [
    "glob_vacc[glob_vacc['Country_Region'] == 'US']"
   ],
   "metadata": {
    "collapsed": false,
    "pycharm": {
     "name": "#%%\n"
    }
   }
  },
  {
   "cell_type": "code",
   "execution_count": 21,
   "outputs": [
    {
     "data": {
      "text/plain": "    Province/State        Country/Region        Lat        Long  1/22/20  \\\n0              NaN           Afghanistan  33.939110   67.709953        0   \n1              NaN               Albania  41.153300   20.168300        0   \n2              NaN               Algeria  28.033900    1.659600        0   \n3              NaN               Andorra  42.506300    1.521800        0   \n4              NaN                Angola -11.202700   17.873900        0   \n..             ...                   ...        ...         ...      ...   \n279            NaN    West Bank and Gaza  31.952200   35.233200        0   \n280            NaN  Winter Olympics 2022  39.904200  116.407400        0   \n281            NaN                 Yemen  15.552727   48.516388        0   \n282            NaN                Zambia -13.133897   27.849332        0   \n283            NaN              Zimbabwe -19.015438   29.154857        0   \n\n     1/23/20  1/24/20  1/25/20  1/26/20  1/27/20  ...  4/18/22  4/19/22  \\\n0          0        0        0        0        0  ...   178457   178513   \n1          0        0        0        0        0  ...   274520   274535   \n2          0        0        0        0        0  ...   265741   265746   \n3          0        0        0        0        0  ...    40709    40709   \n4          0        0        0        0        0  ...    99194    99287   \n..       ...      ...      ...      ...      ...  ...      ...      ...   \n279        0        0        0        0        0  ...   656617   656876   \n280        0        0        0        0        0  ...      535      535   \n281        0        0        0        0        0  ...    11818    11818   \n282        0        0        0        0        0  ...   318515   318640   \n283        0        0        0        0        0  ...   247297   247297   \n\n     4/20/22  4/21/22  4/22/22  4/23/22  4/24/22  4/25/22  4/26/22  4/27/22  \n0     178574   178611   178638   178648   178689   178745   178769   178809  \n1     274606   274606   274737   274791   274828   274828   274862   274929  \n2     265746   265754   265761   265761   265767   265771   265772   265773  \n3      41013    41013    41013    41013    41013    41013    41013    41013  \n4      99287    99287    99287    99287    99287    99287    99287    99287  \n..       ...      ...      ...      ...      ...      ...      ...      ...  \n279   656876   656876   656876   656876   656876   656876   657060   657060  \n280      535      535      535      535      535      535      535      535  \n281    11818    11818    11818    11818    11818    11818    11818    11818  \n282   318640   318984   318984   318984   318984   319316   319431   319431  \n283   247336   247383   247488   247524   247524   247598   247667   247729  \n\n[284 rows x 831 columns]",
      "text/html": "<div>\n<style scoped>\n    .dataframe tbody tr th:only-of-type {\n        vertical-align: middle;\n    }\n\n    .dataframe tbody tr th {\n        vertical-align: top;\n    }\n\n    .dataframe thead th {\n        text-align: right;\n    }\n</style>\n<table border=\"1\" class=\"dataframe\">\n  <thead>\n    <tr style=\"text-align: right;\">\n      <th></th>\n      <th>Province/State</th>\n      <th>Country/Region</th>\n      <th>Lat</th>\n      <th>Long</th>\n      <th>1/22/20</th>\n      <th>1/23/20</th>\n      <th>1/24/20</th>\n      <th>1/25/20</th>\n      <th>1/26/20</th>\n      <th>1/27/20</th>\n      <th>...</th>\n      <th>4/18/22</th>\n      <th>4/19/22</th>\n      <th>4/20/22</th>\n      <th>4/21/22</th>\n      <th>4/22/22</th>\n      <th>4/23/22</th>\n      <th>4/24/22</th>\n      <th>4/25/22</th>\n      <th>4/26/22</th>\n      <th>4/27/22</th>\n    </tr>\n  </thead>\n  <tbody>\n    <tr>\n      <th>0</th>\n      <td>NaN</td>\n      <td>Afghanistan</td>\n      <td>33.939110</td>\n      <td>67.709953</td>\n      <td>0</td>\n      <td>0</td>\n      <td>0</td>\n      <td>0</td>\n      <td>0</td>\n      <td>0</td>\n      <td>...</td>\n      <td>178457</td>\n      <td>178513</td>\n      <td>178574</td>\n      <td>178611</td>\n      <td>178638</td>\n      <td>178648</td>\n      <td>178689</td>\n      <td>178745</td>\n      <td>178769</td>\n      <td>178809</td>\n    </tr>\n    <tr>\n      <th>1</th>\n      <td>NaN</td>\n      <td>Albania</td>\n      <td>41.153300</td>\n      <td>20.168300</td>\n      <td>0</td>\n      <td>0</td>\n      <td>0</td>\n      <td>0</td>\n      <td>0</td>\n      <td>0</td>\n      <td>...</td>\n      <td>274520</td>\n      <td>274535</td>\n      <td>274606</td>\n      <td>274606</td>\n      <td>274737</td>\n      <td>274791</td>\n      <td>274828</td>\n      <td>274828</td>\n      <td>274862</td>\n      <td>274929</td>\n    </tr>\n    <tr>\n      <th>2</th>\n      <td>NaN</td>\n      <td>Algeria</td>\n      <td>28.033900</td>\n      <td>1.659600</td>\n      <td>0</td>\n      <td>0</td>\n      <td>0</td>\n      <td>0</td>\n      <td>0</td>\n      <td>0</td>\n      <td>...</td>\n      <td>265741</td>\n      <td>265746</td>\n      <td>265746</td>\n      <td>265754</td>\n      <td>265761</td>\n      <td>265761</td>\n      <td>265767</td>\n      <td>265771</td>\n      <td>265772</td>\n      <td>265773</td>\n    </tr>\n    <tr>\n      <th>3</th>\n      <td>NaN</td>\n      <td>Andorra</td>\n      <td>42.506300</td>\n      <td>1.521800</td>\n      <td>0</td>\n      <td>0</td>\n      <td>0</td>\n      <td>0</td>\n      <td>0</td>\n      <td>0</td>\n      <td>...</td>\n      <td>40709</td>\n      <td>40709</td>\n      <td>41013</td>\n      <td>41013</td>\n      <td>41013</td>\n      <td>41013</td>\n      <td>41013</td>\n      <td>41013</td>\n      <td>41013</td>\n      <td>41013</td>\n    </tr>\n    <tr>\n      <th>4</th>\n      <td>NaN</td>\n      <td>Angola</td>\n      <td>-11.202700</td>\n      <td>17.873900</td>\n      <td>0</td>\n      <td>0</td>\n      <td>0</td>\n      <td>0</td>\n      <td>0</td>\n      <td>0</td>\n      <td>...</td>\n      <td>99194</td>\n      <td>99287</td>\n      <td>99287</td>\n      <td>99287</td>\n      <td>99287</td>\n      <td>99287</td>\n      <td>99287</td>\n      <td>99287</td>\n      <td>99287</td>\n      <td>99287</td>\n    </tr>\n    <tr>\n      <th>...</th>\n      <td>...</td>\n      <td>...</td>\n      <td>...</td>\n      <td>...</td>\n      <td>...</td>\n      <td>...</td>\n      <td>...</td>\n      <td>...</td>\n      <td>...</td>\n      <td>...</td>\n      <td>...</td>\n      <td>...</td>\n      <td>...</td>\n      <td>...</td>\n      <td>...</td>\n      <td>...</td>\n      <td>...</td>\n      <td>...</td>\n      <td>...</td>\n      <td>...</td>\n      <td>...</td>\n    </tr>\n    <tr>\n      <th>279</th>\n      <td>NaN</td>\n      <td>West Bank and Gaza</td>\n      <td>31.952200</td>\n      <td>35.233200</td>\n      <td>0</td>\n      <td>0</td>\n      <td>0</td>\n      <td>0</td>\n      <td>0</td>\n      <td>0</td>\n      <td>...</td>\n      <td>656617</td>\n      <td>656876</td>\n      <td>656876</td>\n      <td>656876</td>\n      <td>656876</td>\n      <td>656876</td>\n      <td>656876</td>\n      <td>656876</td>\n      <td>657060</td>\n      <td>657060</td>\n    </tr>\n    <tr>\n      <th>280</th>\n      <td>NaN</td>\n      <td>Winter Olympics 2022</td>\n      <td>39.904200</td>\n      <td>116.407400</td>\n      <td>0</td>\n      <td>0</td>\n      <td>0</td>\n      <td>0</td>\n      <td>0</td>\n      <td>0</td>\n      <td>...</td>\n      <td>535</td>\n      <td>535</td>\n      <td>535</td>\n      <td>535</td>\n      <td>535</td>\n      <td>535</td>\n      <td>535</td>\n      <td>535</td>\n      <td>535</td>\n      <td>535</td>\n    </tr>\n    <tr>\n      <th>281</th>\n      <td>NaN</td>\n      <td>Yemen</td>\n      <td>15.552727</td>\n      <td>48.516388</td>\n      <td>0</td>\n      <td>0</td>\n      <td>0</td>\n      <td>0</td>\n      <td>0</td>\n      <td>0</td>\n      <td>...</td>\n      <td>11818</td>\n      <td>11818</td>\n      <td>11818</td>\n      <td>11818</td>\n      <td>11818</td>\n      <td>11818</td>\n      <td>11818</td>\n      <td>11818</td>\n      <td>11818</td>\n      <td>11818</td>\n    </tr>\n    <tr>\n      <th>282</th>\n      <td>NaN</td>\n      <td>Zambia</td>\n      <td>-13.133897</td>\n      <td>27.849332</td>\n      <td>0</td>\n      <td>0</td>\n      <td>0</td>\n      <td>0</td>\n      <td>0</td>\n      <td>0</td>\n      <td>...</td>\n      <td>318515</td>\n      <td>318640</td>\n      <td>318640</td>\n      <td>318984</td>\n      <td>318984</td>\n      <td>318984</td>\n      <td>318984</td>\n      <td>319316</td>\n      <td>319431</td>\n      <td>319431</td>\n    </tr>\n    <tr>\n      <th>283</th>\n      <td>NaN</td>\n      <td>Zimbabwe</td>\n      <td>-19.015438</td>\n      <td>29.154857</td>\n      <td>0</td>\n      <td>0</td>\n      <td>0</td>\n      <td>0</td>\n      <td>0</td>\n      <td>0</td>\n      <td>...</td>\n      <td>247297</td>\n      <td>247297</td>\n      <td>247336</td>\n      <td>247383</td>\n      <td>247488</td>\n      <td>247524</td>\n      <td>247524</td>\n      <td>247598</td>\n      <td>247667</td>\n      <td>247729</td>\n    </tr>\n  </tbody>\n</table>\n<p>284 rows × 831 columns</p>\n</div>"
     },
     "execution_count": 21,
     "metadata": {},
     "output_type": "execute_result"
    }
   ],
   "source": [
    "glob_cases"
   ],
   "metadata": {
    "collapsed": false,
    "pycharm": {
     "name": "#%%\n"
    }
   }
  },
  {
   "cell_type": "code",
   "execution_count": 22,
   "outputs": [
    {
     "data": {
      "text/plain": "    Province/State        Country/Region        Lat        Long  1/22/20  \\\n0              NaN           Afghanistan  33.939110   67.709953        0   \n1              NaN               Albania  41.153300   20.168300        0   \n2              NaN               Algeria  28.033900    1.659600        0   \n3              NaN               Andorra  42.506300    1.521800        0   \n4              NaN                Angola -11.202700   17.873900        0   \n..             ...                   ...        ...         ...      ...   \n279            NaN    West Bank and Gaza  31.952200   35.233200        0   \n280            NaN  Winter Olympics 2022  39.904200  116.407400        0   \n281            NaN                 Yemen  15.552727   48.516388        0   \n282            NaN                Zambia -13.133897   27.849332        0   \n283            NaN              Zimbabwe -19.015438   29.154857        0   \n\n     1/23/20  1/24/20  1/25/20  1/26/20  1/27/20  ...  4/18/22  4/19/22  \\\n0          0        0        0        0        0  ...     7679     7680   \n1          0        0        0        0        0  ...     3496     3496   \n2          0        0        0        0        0  ...     6874     6874   \n3          0        0        0        0        0  ...      153      153   \n4          0        0        0        0        0  ...     1900     1900   \n..       ...      ...      ...      ...      ...  ...      ...      ...   \n279        0        0        0        0        0  ...     5656     5657   \n280        0        0        0        0        0  ...        0        0   \n281        0        0        0        0        0  ...     2148     2148   \n282        0        0        0        0        0  ...     3973     3973   \n283        0        0        0        0        0  ...     5464     5464   \n\n     4/20/22  4/21/22  4/22/22  4/23/22  4/24/22  4/25/22  4/26/22  4/27/22  \n0       7680     7680     7680     7681     7682     7683     7683     7683  \n1       3496     3496     3496     3496     3496     3496     3496     3496  \n2       6874     6874     6874     6874     6875     6875     6875     6875  \n3        153      153      153      153      153      153      153      153  \n4       1900     1900     1900     1900     1900     1900     1900     1900  \n..       ...      ...      ...      ...      ...      ...      ...      ...  \n279     5657     5657     5657     5657     5657     5657     5657     5657  \n280        0        0        0        0        0        0        0        0  \n281     2148     2148     2148     2148     2149     2149     2149     2149  \n282     3973     3974     3974     3974     3974     3976     3976     3976  \n283     5466     5467     5468     5468     5468     5468     5469     5469  \n\n[284 rows x 831 columns]",
      "text/html": "<div>\n<style scoped>\n    .dataframe tbody tr th:only-of-type {\n        vertical-align: middle;\n    }\n\n    .dataframe tbody tr th {\n        vertical-align: top;\n    }\n\n    .dataframe thead th {\n        text-align: right;\n    }\n</style>\n<table border=\"1\" class=\"dataframe\">\n  <thead>\n    <tr style=\"text-align: right;\">\n      <th></th>\n      <th>Province/State</th>\n      <th>Country/Region</th>\n      <th>Lat</th>\n      <th>Long</th>\n      <th>1/22/20</th>\n      <th>1/23/20</th>\n      <th>1/24/20</th>\n      <th>1/25/20</th>\n      <th>1/26/20</th>\n      <th>1/27/20</th>\n      <th>...</th>\n      <th>4/18/22</th>\n      <th>4/19/22</th>\n      <th>4/20/22</th>\n      <th>4/21/22</th>\n      <th>4/22/22</th>\n      <th>4/23/22</th>\n      <th>4/24/22</th>\n      <th>4/25/22</th>\n      <th>4/26/22</th>\n      <th>4/27/22</th>\n    </tr>\n  </thead>\n  <tbody>\n    <tr>\n      <th>0</th>\n      <td>NaN</td>\n      <td>Afghanistan</td>\n      <td>33.939110</td>\n      <td>67.709953</td>\n      <td>0</td>\n      <td>0</td>\n      <td>0</td>\n      <td>0</td>\n      <td>0</td>\n      <td>0</td>\n      <td>...</td>\n      <td>7679</td>\n      <td>7680</td>\n      <td>7680</td>\n      <td>7680</td>\n      <td>7680</td>\n      <td>7681</td>\n      <td>7682</td>\n      <td>7683</td>\n      <td>7683</td>\n      <td>7683</td>\n    </tr>\n    <tr>\n      <th>1</th>\n      <td>NaN</td>\n      <td>Albania</td>\n      <td>41.153300</td>\n      <td>20.168300</td>\n      <td>0</td>\n      <td>0</td>\n      <td>0</td>\n      <td>0</td>\n      <td>0</td>\n      <td>0</td>\n      <td>...</td>\n      <td>3496</td>\n      <td>3496</td>\n      <td>3496</td>\n      <td>3496</td>\n      <td>3496</td>\n      <td>3496</td>\n      <td>3496</td>\n      <td>3496</td>\n      <td>3496</td>\n      <td>3496</td>\n    </tr>\n    <tr>\n      <th>2</th>\n      <td>NaN</td>\n      <td>Algeria</td>\n      <td>28.033900</td>\n      <td>1.659600</td>\n      <td>0</td>\n      <td>0</td>\n      <td>0</td>\n      <td>0</td>\n      <td>0</td>\n      <td>0</td>\n      <td>...</td>\n      <td>6874</td>\n      <td>6874</td>\n      <td>6874</td>\n      <td>6874</td>\n      <td>6874</td>\n      <td>6874</td>\n      <td>6875</td>\n      <td>6875</td>\n      <td>6875</td>\n      <td>6875</td>\n    </tr>\n    <tr>\n      <th>3</th>\n      <td>NaN</td>\n      <td>Andorra</td>\n      <td>42.506300</td>\n      <td>1.521800</td>\n      <td>0</td>\n      <td>0</td>\n      <td>0</td>\n      <td>0</td>\n      <td>0</td>\n      <td>0</td>\n      <td>...</td>\n      <td>153</td>\n      <td>153</td>\n      <td>153</td>\n      <td>153</td>\n      <td>153</td>\n      <td>153</td>\n      <td>153</td>\n      <td>153</td>\n      <td>153</td>\n      <td>153</td>\n    </tr>\n    <tr>\n      <th>4</th>\n      <td>NaN</td>\n      <td>Angola</td>\n      <td>-11.202700</td>\n      <td>17.873900</td>\n      <td>0</td>\n      <td>0</td>\n      <td>0</td>\n      <td>0</td>\n      <td>0</td>\n      <td>0</td>\n      <td>...</td>\n      <td>1900</td>\n      <td>1900</td>\n      <td>1900</td>\n      <td>1900</td>\n      <td>1900</td>\n      <td>1900</td>\n      <td>1900</td>\n      <td>1900</td>\n      <td>1900</td>\n      <td>1900</td>\n    </tr>\n    <tr>\n      <th>...</th>\n      <td>...</td>\n      <td>...</td>\n      <td>...</td>\n      <td>...</td>\n      <td>...</td>\n      <td>...</td>\n      <td>...</td>\n      <td>...</td>\n      <td>...</td>\n      <td>...</td>\n      <td>...</td>\n      <td>...</td>\n      <td>...</td>\n      <td>...</td>\n      <td>...</td>\n      <td>...</td>\n      <td>...</td>\n      <td>...</td>\n      <td>...</td>\n      <td>...</td>\n      <td>...</td>\n    </tr>\n    <tr>\n      <th>279</th>\n      <td>NaN</td>\n      <td>West Bank and Gaza</td>\n      <td>31.952200</td>\n      <td>35.233200</td>\n      <td>0</td>\n      <td>0</td>\n      <td>0</td>\n      <td>0</td>\n      <td>0</td>\n      <td>0</td>\n      <td>...</td>\n      <td>5656</td>\n      <td>5657</td>\n      <td>5657</td>\n      <td>5657</td>\n      <td>5657</td>\n      <td>5657</td>\n      <td>5657</td>\n      <td>5657</td>\n      <td>5657</td>\n      <td>5657</td>\n    </tr>\n    <tr>\n      <th>280</th>\n      <td>NaN</td>\n      <td>Winter Olympics 2022</td>\n      <td>39.904200</td>\n      <td>116.407400</td>\n      <td>0</td>\n      <td>0</td>\n      <td>0</td>\n      <td>0</td>\n      <td>0</td>\n      <td>0</td>\n      <td>...</td>\n      <td>0</td>\n      <td>0</td>\n      <td>0</td>\n      <td>0</td>\n      <td>0</td>\n      <td>0</td>\n      <td>0</td>\n      <td>0</td>\n      <td>0</td>\n      <td>0</td>\n    </tr>\n    <tr>\n      <th>281</th>\n      <td>NaN</td>\n      <td>Yemen</td>\n      <td>15.552727</td>\n      <td>48.516388</td>\n      <td>0</td>\n      <td>0</td>\n      <td>0</td>\n      <td>0</td>\n      <td>0</td>\n      <td>0</td>\n      <td>...</td>\n      <td>2148</td>\n      <td>2148</td>\n      <td>2148</td>\n      <td>2148</td>\n      <td>2148</td>\n      <td>2148</td>\n      <td>2149</td>\n      <td>2149</td>\n      <td>2149</td>\n      <td>2149</td>\n    </tr>\n    <tr>\n      <th>282</th>\n      <td>NaN</td>\n      <td>Zambia</td>\n      <td>-13.133897</td>\n      <td>27.849332</td>\n      <td>0</td>\n      <td>0</td>\n      <td>0</td>\n      <td>0</td>\n      <td>0</td>\n      <td>0</td>\n      <td>...</td>\n      <td>3973</td>\n      <td>3973</td>\n      <td>3973</td>\n      <td>3974</td>\n      <td>3974</td>\n      <td>3974</td>\n      <td>3974</td>\n      <td>3976</td>\n      <td>3976</td>\n      <td>3976</td>\n    </tr>\n    <tr>\n      <th>283</th>\n      <td>NaN</td>\n      <td>Zimbabwe</td>\n      <td>-19.015438</td>\n      <td>29.154857</td>\n      <td>0</td>\n      <td>0</td>\n      <td>0</td>\n      <td>0</td>\n      <td>0</td>\n      <td>0</td>\n      <td>...</td>\n      <td>5464</td>\n      <td>5464</td>\n      <td>5466</td>\n      <td>5467</td>\n      <td>5468</td>\n      <td>5468</td>\n      <td>5468</td>\n      <td>5468</td>\n      <td>5469</td>\n      <td>5469</td>\n    </tr>\n  </tbody>\n</table>\n<p>284 rows × 831 columns</p>\n</div>"
     },
     "execution_count": 22,
     "metadata": {},
     "output_type": "execute_result"
    }
   ],
   "source": [
    "glob_deaths"
   ],
   "metadata": {
    "collapsed": false,
    "pycharm": {
     "name": "#%%\n"
    }
   }
  },
  {
   "cell_type": "code",
   "execution_count": 19,
   "outputs": [
    {
     "data": {
      "text/plain": "    Province/State        Country/Region        Lat        Long  1/22/20  \\\n0              NaN           Afghanistan  33.939110   67.709953        0   \n1              NaN               Albania  41.153300   20.168300        0   \n2              NaN               Algeria  28.033900    1.659600        0   \n3              NaN               Andorra  42.506300    1.521800        0   \n4              NaN                Angola -11.202700   17.873900        0   \n..             ...                   ...        ...         ...      ...   \n264            NaN    West Bank and Gaza  31.952200   35.233200        0   \n265            NaN  Winter Olympics 2022  39.904200  116.407400        0   \n266            NaN                 Yemen  15.552727   48.516388        0   \n267            NaN                Zambia -13.133897   27.849332        0   \n268            NaN              Zimbabwe -19.015438   29.154857        0   \n\n     1/23/20  1/24/20  1/25/20  1/26/20  1/27/20  ...  4/18/22  4/19/22  \\\n0          0        0        0        0        0  ...        0        0   \n1          0        0        0        0        0  ...        0        0   \n2          0        0        0        0        0  ...        0        0   \n3          0        0        0        0        0  ...        0        0   \n4          0        0        0        0        0  ...        0        0   \n..       ...      ...      ...      ...      ...  ...      ...      ...   \n264        0        0        0        0        0  ...        0        0   \n265        0        0        0        0        0  ...        0        0   \n266        0        0        0        0        0  ...        0        0   \n267        0        0        0        0        0  ...        0        0   \n268        0        0        0        0        0  ...        0        0   \n\n     4/20/22  4/21/22  4/22/22  4/23/22  4/24/22  4/25/22  4/26/22  4/27/22  \n0          0        0        0        0        0        0        0        0  \n1          0        0        0        0        0        0        0        0  \n2          0        0        0        0        0        0        0        0  \n3          0        0        0        0        0        0        0        0  \n4          0        0        0        0        0        0        0        0  \n..       ...      ...      ...      ...      ...      ...      ...      ...  \n264        0        0        0        0        0        0        0        0  \n265        0        0        0        0        0        0        0        0  \n266        0        0        0        0        0        0        0        0  \n267        0        0        0        0        0        0        0        0  \n268        0        0        0        0        0        0        0        0  \n\n[269 rows x 831 columns]",
      "text/html": "<div>\n<style scoped>\n    .dataframe tbody tr th:only-of-type {\n        vertical-align: middle;\n    }\n\n    .dataframe tbody tr th {\n        vertical-align: top;\n    }\n\n    .dataframe thead th {\n        text-align: right;\n    }\n</style>\n<table border=\"1\" class=\"dataframe\">\n  <thead>\n    <tr style=\"text-align: right;\">\n      <th></th>\n      <th>Province/State</th>\n      <th>Country/Region</th>\n      <th>Lat</th>\n      <th>Long</th>\n      <th>1/22/20</th>\n      <th>1/23/20</th>\n      <th>1/24/20</th>\n      <th>1/25/20</th>\n      <th>1/26/20</th>\n      <th>1/27/20</th>\n      <th>...</th>\n      <th>4/18/22</th>\n      <th>4/19/22</th>\n      <th>4/20/22</th>\n      <th>4/21/22</th>\n      <th>4/22/22</th>\n      <th>4/23/22</th>\n      <th>4/24/22</th>\n      <th>4/25/22</th>\n      <th>4/26/22</th>\n      <th>4/27/22</th>\n    </tr>\n  </thead>\n  <tbody>\n    <tr>\n      <th>0</th>\n      <td>NaN</td>\n      <td>Afghanistan</td>\n      <td>33.939110</td>\n      <td>67.709953</td>\n      <td>0</td>\n      <td>0</td>\n      <td>0</td>\n      <td>0</td>\n      <td>0</td>\n      <td>0</td>\n      <td>...</td>\n      <td>0</td>\n      <td>0</td>\n      <td>0</td>\n      <td>0</td>\n      <td>0</td>\n      <td>0</td>\n      <td>0</td>\n      <td>0</td>\n      <td>0</td>\n      <td>0</td>\n    </tr>\n    <tr>\n      <th>1</th>\n      <td>NaN</td>\n      <td>Albania</td>\n      <td>41.153300</td>\n      <td>20.168300</td>\n      <td>0</td>\n      <td>0</td>\n      <td>0</td>\n      <td>0</td>\n      <td>0</td>\n      <td>0</td>\n      <td>...</td>\n      <td>0</td>\n      <td>0</td>\n      <td>0</td>\n      <td>0</td>\n      <td>0</td>\n      <td>0</td>\n      <td>0</td>\n      <td>0</td>\n      <td>0</td>\n      <td>0</td>\n    </tr>\n    <tr>\n      <th>2</th>\n      <td>NaN</td>\n      <td>Algeria</td>\n      <td>28.033900</td>\n      <td>1.659600</td>\n      <td>0</td>\n      <td>0</td>\n      <td>0</td>\n      <td>0</td>\n      <td>0</td>\n      <td>0</td>\n      <td>...</td>\n      <td>0</td>\n      <td>0</td>\n      <td>0</td>\n      <td>0</td>\n      <td>0</td>\n      <td>0</td>\n      <td>0</td>\n      <td>0</td>\n      <td>0</td>\n      <td>0</td>\n    </tr>\n    <tr>\n      <th>3</th>\n      <td>NaN</td>\n      <td>Andorra</td>\n      <td>42.506300</td>\n      <td>1.521800</td>\n      <td>0</td>\n      <td>0</td>\n      <td>0</td>\n      <td>0</td>\n      <td>0</td>\n      <td>0</td>\n      <td>...</td>\n      <td>0</td>\n      <td>0</td>\n      <td>0</td>\n      <td>0</td>\n      <td>0</td>\n      <td>0</td>\n      <td>0</td>\n      <td>0</td>\n      <td>0</td>\n      <td>0</td>\n    </tr>\n    <tr>\n      <th>4</th>\n      <td>NaN</td>\n      <td>Angola</td>\n      <td>-11.202700</td>\n      <td>17.873900</td>\n      <td>0</td>\n      <td>0</td>\n      <td>0</td>\n      <td>0</td>\n      <td>0</td>\n      <td>0</td>\n      <td>...</td>\n      <td>0</td>\n      <td>0</td>\n      <td>0</td>\n      <td>0</td>\n      <td>0</td>\n      <td>0</td>\n      <td>0</td>\n      <td>0</td>\n      <td>0</td>\n      <td>0</td>\n    </tr>\n    <tr>\n      <th>...</th>\n      <td>...</td>\n      <td>...</td>\n      <td>...</td>\n      <td>...</td>\n      <td>...</td>\n      <td>...</td>\n      <td>...</td>\n      <td>...</td>\n      <td>...</td>\n      <td>...</td>\n      <td>...</td>\n      <td>...</td>\n      <td>...</td>\n      <td>...</td>\n      <td>...</td>\n      <td>...</td>\n      <td>...</td>\n      <td>...</td>\n      <td>...</td>\n      <td>...</td>\n      <td>...</td>\n    </tr>\n    <tr>\n      <th>264</th>\n      <td>NaN</td>\n      <td>West Bank and Gaza</td>\n      <td>31.952200</td>\n      <td>35.233200</td>\n      <td>0</td>\n      <td>0</td>\n      <td>0</td>\n      <td>0</td>\n      <td>0</td>\n      <td>0</td>\n      <td>...</td>\n      <td>0</td>\n      <td>0</td>\n      <td>0</td>\n      <td>0</td>\n      <td>0</td>\n      <td>0</td>\n      <td>0</td>\n      <td>0</td>\n      <td>0</td>\n      <td>0</td>\n    </tr>\n    <tr>\n      <th>265</th>\n      <td>NaN</td>\n      <td>Winter Olympics 2022</td>\n      <td>39.904200</td>\n      <td>116.407400</td>\n      <td>0</td>\n      <td>0</td>\n      <td>0</td>\n      <td>0</td>\n      <td>0</td>\n      <td>0</td>\n      <td>...</td>\n      <td>0</td>\n      <td>0</td>\n      <td>0</td>\n      <td>0</td>\n      <td>0</td>\n      <td>0</td>\n      <td>0</td>\n      <td>0</td>\n      <td>0</td>\n      <td>0</td>\n    </tr>\n    <tr>\n      <th>266</th>\n      <td>NaN</td>\n      <td>Yemen</td>\n      <td>15.552727</td>\n      <td>48.516388</td>\n      <td>0</td>\n      <td>0</td>\n      <td>0</td>\n      <td>0</td>\n      <td>0</td>\n      <td>0</td>\n      <td>...</td>\n      <td>0</td>\n      <td>0</td>\n      <td>0</td>\n      <td>0</td>\n      <td>0</td>\n      <td>0</td>\n      <td>0</td>\n      <td>0</td>\n      <td>0</td>\n      <td>0</td>\n    </tr>\n    <tr>\n      <th>267</th>\n      <td>NaN</td>\n      <td>Zambia</td>\n      <td>-13.133897</td>\n      <td>27.849332</td>\n      <td>0</td>\n      <td>0</td>\n      <td>0</td>\n      <td>0</td>\n      <td>0</td>\n      <td>0</td>\n      <td>...</td>\n      <td>0</td>\n      <td>0</td>\n      <td>0</td>\n      <td>0</td>\n      <td>0</td>\n      <td>0</td>\n      <td>0</td>\n      <td>0</td>\n      <td>0</td>\n      <td>0</td>\n    </tr>\n    <tr>\n      <th>268</th>\n      <td>NaN</td>\n      <td>Zimbabwe</td>\n      <td>-19.015438</td>\n      <td>29.154857</td>\n      <td>0</td>\n      <td>0</td>\n      <td>0</td>\n      <td>0</td>\n      <td>0</td>\n      <td>0</td>\n      <td>...</td>\n      <td>0</td>\n      <td>0</td>\n      <td>0</td>\n      <td>0</td>\n      <td>0</td>\n      <td>0</td>\n      <td>0</td>\n      <td>0</td>\n      <td>0</td>\n      <td>0</td>\n    </tr>\n  </tbody>\n</table>\n<p>269 rows × 831 columns</p>\n</div>"
     },
     "execution_count": 19,
     "metadata": {},
     "output_type": "execute_result"
    }
   ],
   "source": [
    "glob_recovered"
   ],
   "metadata": {
    "collapsed": false,
    "pycharm": {
     "name": "#%%\n"
    }
   }
  },
  {
   "cell_type": "code",
   "execution_count": 49,
   "outputs": [
    {
     "data": {
      "text/plain": "       Country/Region       Date  Deaths\n28        Afghanistan 2020-01-22       0\n31        Afghanistan 2020-01-23       0\n34        Afghanistan 2020-01-24       0\n37        Afghanistan 2020-01-25       0\n40        Afghanistan 2020-01-26       0\n...               ...        ...     ...\n163400       Zimbabwe 2022-04-23    5468\n163403       Zimbabwe 2022-04-24    5468\n163406       Zimbabwe 2022-04-25    5468\n163409       Zimbabwe 2022-04-26    5469\n163412       Zimbabwe 2022-04-27    5469\n\n[163746 rows x 3 columns]",
      "text/html": "<div>\n<style scoped>\n    .dataframe tbody tr th:only-of-type {\n        vertical-align: middle;\n    }\n\n    .dataframe tbody tr th {\n        vertical-align: top;\n    }\n\n    .dataframe thead th {\n        text-align: right;\n    }\n</style>\n<table border=\"1\" class=\"dataframe\">\n  <thead>\n    <tr style=\"text-align: right;\">\n      <th></th>\n      <th>Country/Region</th>\n      <th>Date</th>\n      <th>Deaths</th>\n    </tr>\n  </thead>\n  <tbody>\n    <tr>\n      <th>28</th>\n      <td>Afghanistan</td>\n      <td>2020-01-22</td>\n      <td>0</td>\n    </tr>\n    <tr>\n      <th>31</th>\n      <td>Afghanistan</td>\n      <td>2020-01-23</td>\n      <td>0</td>\n    </tr>\n    <tr>\n      <th>34</th>\n      <td>Afghanistan</td>\n      <td>2020-01-24</td>\n      <td>0</td>\n    </tr>\n    <tr>\n      <th>37</th>\n      <td>Afghanistan</td>\n      <td>2020-01-25</td>\n      <td>0</td>\n    </tr>\n    <tr>\n      <th>40</th>\n      <td>Afghanistan</td>\n      <td>2020-01-26</td>\n      <td>0</td>\n    </tr>\n    <tr>\n      <th>...</th>\n      <td>...</td>\n      <td>...</td>\n      <td>...</td>\n    </tr>\n    <tr>\n      <th>163400</th>\n      <td>Zimbabwe</td>\n      <td>2022-04-23</td>\n      <td>5468</td>\n    </tr>\n    <tr>\n      <th>163403</th>\n      <td>Zimbabwe</td>\n      <td>2022-04-24</td>\n      <td>5468</td>\n    </tr>\n    <tr>\n      <th>163406</th>\n      <td>Zimbabwe</td>\n      <td>2022-04-25</td>\n      <td>5468</td>\n    </tr>\n    <tr>\n      <th>163409</th>\n      <td>Zimbabwe</td>\n      <td>2022-04-26</td>\n      <td>5469</td>\n    </tr>\n    <tr>\n      <th>163412</th>\n      <td>Zimbabwe</td>\n      <td>2022-04-27</td>\n      <td>5469</td>\n    </tr>\n  </tbody>\n</table>\n<p>163746 rows × 3 columns</p>\n</div>"
     },
     "execution_count": 49,
     "metadata": {},
     "output_type": "execute_result"
    }
   ],
   "source": [
    "deaths = pd.melt(glob_deaths,\n",
    "                 [\"Province/State\", \"Country/Region\", \"Lat\", \"Long\"],\n",
    "                 var_name=\"Date\",\n",
    "                 value_name=\"Deaths\")\n",
    "\n",
    "deaths = deaths.drop(['Province/State','Lat','Long'],axis=1)\n",
    "deaths = deaths.groupby(['Country/Region','Date']).sum().reset_index()\n",
    "deaths['Date'] = pd.to_datetime(deaths['Date'], errors='coerce')\n",
    "deaths = deaths.sort_values(by=['Country/Region','Date'])\n",
    "deaths"
   ],
   "metadata": {
    "collapsed": false,
    "pycharm": {
     "name": "#%%\n"
    }
   }
  },
  {
   "cell_type": "code",
   "execution_count": 51,
   "outputs": [
    {
     "data": {
      "text/plain": "       Country/Region       Date  Recovered\n28        Afghanistan 2020-01-22          0\n31        Afghanistan 2020-01-23          0\n34        Afghanistan 2020-01-24          0\n37        Afghanistan 2020-01-25          0\n40        Afghanistan 2020-01-26          0\n...               ...        ...        ...\n163400       Zimbabwe 2022-04-23          0\n163403       Zimbabwe 2022-04-24          0\n163406       Zimbabwe 2022-04-25          0\n163409       Zimbabwe 2022-04-26          0\n163412       Zimbabwe 2022-04-27          0\n\n[163746 rows x 3 columns]",
      "text/html": "<div>\n<style scoped>\n    .dataframe tbody tr th:only-of-type {\n        vertical-align: middle;\n    }\n\n    .dataframe tbody tr th {\n        vertical-align: top;\n    }\n\n    .dataframe thead th {\n        text-align: right;\n    }\n</style>\n<table border=\"1\" class=\"dataframe\">\n  <thead>\n    <tr style=\"text-align: right;\">\n      <th></th>\n      <th>Country/Region</th>\n      <th>Date</th>\n      <th>Recovered</th>\n    </tr>\n  </thead>\n  <tbody>\n    <tr>\n      <th>28</th>\n      <td>Afghanistan</td>\n      <td>2020-01-22</td>\n      <td>0</td>\n    </tr>\n    <tr>\n      <th>31</th>\n      <td>Afghanistan</td>\n      <td>2020-01-23</td>\n      <td>0</td>\n    </tr>\n    <tr>\n      <th>34</th>\n      <td>Afghanistan</td>\n      <td>2020-01-24</td>\n      <td>0</td>\n    </tr>\n    <tr>\n      <th>37</th>\n      <td>Afghanistan</td>\n      <td>2020-01-25</td>\n      <td>0</td>\n    </tr>\n    <tr>\n      <th>40</th>\n      <td>Afghanistan</td>\n      <td>2020-01-26</td>\n      <td>0</td>\n    </tr>\n    <tr>\n      <th>...</th>\n      <td>...</td>\n      <td>...</td>\n      <td>...</td>\n    </tr>\n    <tr>\n      <th>163400</th>\n      <td>Zimbabwe</td>\n      <td>2022-04-23</td>\n      <td>0</td>\n    </tr>\n    <tr>\n      <th>163403</th>\n      <td>Zimbabwe</td>\n      <td>2022-04-24</td>\n      <td>0</td>\n    </tr>\n    <tr>\n      <th>163406</th>\n      <td>Zimbabwe</td>\n      <td>2022-04-25</td>\n      <td>0</td>\n    </tr>\n    <tr>\n      <th>163409</th>\n      <td>Zimbabwe</td>\n      <td>2022-04-26</td>\n      <td>0</td>\n    </tr>\n    <tr>\n      <th>163412</th>\n      <td>Zimbabwe</td>\n      <td>2022-04-27</td>\n      <td>0</td>\n    </tr>\n  </tbody>\n</table>\n<p>163746 rows × 3 columns</p>\n</div>"
     },
     "execution_count": 51,
     "metadata": {},
     "output_type": "execute_result"
    }
   ],
   "source": [
    "recovered = pd.melt(glob_recovered,\n",
    "                    [\"Province/State\", \"Country/Region\", \"Lat\", \"Long\"],\n",
    "                    var_name=\"Date\",\n",
    "                    value_name=\"Recovered\")\n",
    "\n",
    "recovered = recovered.drop(['Province/State','Lat','Long'], axis=1)\n",
    "recovered = recovered.groupby(['Country/Region','Date']).sum().reset_index()\n",
    "recovered['Date'] = pd.to_datetime(recovered['Date'], errors='coerce')\n",
    "recovered = recovered.sort_values(by=['Country/Region','Date'])\n",
    "recovered"
   ],
   "metadata": {
    "collapsed": false,
    "pycharm": {
     "name": "#%%\n"
    }
   }
  },
  {
   "cell_type": "code",
   "execution_count": 52,
   "outputs": [
    {
     "data": {
      "text/plain": "       Country/Region       Date  Deaths  Recovered\n0         Afghanistan 2020-01-22       0          0\n1         Afghanistan 2020-01-23       0          0\n2         Afghanistan 2020-01-24       0          0\n3         Afghanistan 2020-01-25       0          0\n4         Afghanistan 2020-01-26       0          0\n...               ...        ...     ...        ...\n163741       Zimbabwe 2022-04-23    5468          0\n163742       Zimbabwe 2022-04-24    5468          0\n163743       Zimbabwe 2022-04-25    5468          0\n163744       Zimbabwe 2022-04-26    5469          0\n163745       Zimbabwe 2022-04-27    5469          0\n\n[163746 rows x 4 columns]",
      "text/html": "<div>\n<style scoped>\n    .dataframe tbody tr th:only-of-type {\n        vertical-align: middle;\n    }\n\n    .dataframe tbody tr th {\n        vertical-align: top;\n    }\n\n    .dataframe thead th {\n        text-align: right;\n    }\n</style>\n<table border=\"1\" class=\"dataframe\">\n  <thead>\n    <tr style=\"text-align: right;\">\n      <th></th>\n      <th>Country/Region</th>\n      <th>Date</th>\n      <th>Deaths</th>\n      <th>Recovered</th>\n    </tr>\n  </thead>\n  <tbody>\n    <tr>\n      <th>0</th>\n      <td>Afghanistan</td>\n      <td>2020-01-22</td>\n      <td>0</td>\n      <td>0</td>\n    </tr>\n    <tr>\n      <th>1</th>\n      <td>Afghanistan</td>\n      <td>2020-01-23</td>\n      <td>0</td>\n      <td>0</td>\n    </tr>\n    <tr>\n      <th>2</th>\n      <td>Afghanistan</td>\n      <td>2020-01-24</td>\n      <td>0</td>\n      <td>0</td>\n    </tr>\n    <tr>\n      <th>3</th>\n      <td>Afghanistan</td>\n      <td>2020-01-25</td>\n      <td>0</td>\n      <td>0</td>\n    </tr>\n    <tr>\n      <th>4</th>\n      <td>Afghanistan</td>\n      <td>2020-01-26</td>\n      <td>0</td>\n      <td>0</td>\n    </tr>\n    <tr>\n      <th>...</th>\n      <td>...</td>\n      <td>...</td>\n      <td>...</td>\n      <td>...</td>\n    </tr>\n    <tr>\n      <th>163741</th>\n      <td>Zimbabwe</td>\n      <td>2022-04-23</td>\n      <td>5468</td>\n      <td>0</td>\n    </tr>\n    <tr>\n      <th>163742</th>\n      <td>Zimbabwe</td>\n      <td>2022-04-24</td>\n      <td>5468</td>\n      <td>0</td>\n    </tr>\n    <tr>\n      <th>163743</th>\n      <td>Zimbabwe</td>\n      <td>2022-04-25</td>\n      <td>5468</td>\n      <td>0</td>\n    </tr>\n    <tr>\n      <th>163744</th>\n      <td>Zimbabwe</td>\n      <td>2022-04-26</td>\n      <td>5469</td>\n      <td>0</td>\n    </tr>\n    <tr>\n      <th>163745</th>\n      <td>Zimbabwe</td>\n      <td>2022-04-27</td>\n      <td>5469</td>\n      <td>0</td>\n    </tr>\n  </tbody>\n</table>\n<p>163746 rows × 4 columns</p>\n</div>"
     },
     "execution_count": 52,
     "metadata": {},
     "output_type": "execute_result"
    }
   ],
   "source": [
    "data = deaths.merge(how = 'outer', right=recovered, on=['Country/Region', 'Date'])\n",
    "data"
   ],
   "metadata": {
    "collapsed": false,
    "pycharm": {
     "name": "#%%\n"
    }
   }
  },
  {
   "cell_type": "code",
   "execution_count": 54,
   "outputs": [
    {
     "data": {
      "text/plain": "       Country/Region       Date   Cases\n28        Afghanistan 2020-01-22       0\n31        Afghanistan 2020-01-23       0\n34        Afghanistan 2020-01-24       0\n37        Afghanistan 2020-01-25       0\n40        Afghanistan 2020-01-26       0\n...               ...        ...     ...\n163400       Zimbabwe 2022-04-23  247524\n163403       Zimbabwe 2022-04-24  247524\n163406       Zimbabwe 2022-04-25  247598\n163409       Zimbabwe 2022-04-26  247667\n163412       Zimbabwe 2022-04-27  247729\n\n[163746 rows x 3 columns]",
      "text/html": "<div>\n<style scoped>\n    .dataframe tbody tr th:only-of-type {\n        vertical-align: middle;\n    }\n\n    .dataframe tbody tr th {\n        vertical-align: top;\n    }\n\n    .dataframe thead th {\n        text-align: right;\n    }\n</style>\n<table border=\"1\" class=\"dataframe\">\n  <thead>\n    <tr style=\"text-align: right;\">\n      <th></th>\n      <th>Country/Region</th>\n      <th>Date</th>\n      <th>Cases</th>\n    </tr>\n  </thead>\n  <tbody>\n    <tr>\n      <th>28</th>\n      <td>Afghanistan</td>\n      <td>2020-01-22</td>\n      <td>0</td>\n    </tr>\n    <tr>\n      <th>31</th>\n      <td>Afghanistan</td>\n      <td>2020-01-23</td>\n      <td>0</td>\n    </tr>\n    <tr>\n      <th>34</th>\n      <td>Afghanistan</td>\n      <td>2020-01-24</td>\n      <td>0</td>\n    </tr>\n    <tr>\n      <th>37</th>\n      <td>Afghanistan</td>\n      <td>2020-01-25</td>\n      <td>0</td>\n    </tr>\n    <tr>\n      <th>40</th>\n      <td>Afghanistan</td>\n      <td>2020-01-26</td>\n      <td>0</td>\n    </tr>\n    <tr>\n      <th>...</th>\n      <td>...</td>\n      <td>...</td>\n      <td>...</td>\n    </tr>\n    <tr>\n      <th>163400</th>\n      <td>Zimbabwe</td>\n      <td>2022-04-23</td>\n      <td>247524</td>\n    </tr>\n    <tr>\n      <th>163403</th>\n      <td>Zimbabwe</td>\n      <td>2022-04-24</td>\n      <td>247524</td>\n    </tr>\n    <tr>\n      <th>163406</th>\n      <td>Zimbabwe</td>\n      <td>2022-04-25</td>\n      <td>247598</td>\n    </tr>\n    <tr>\n      <th>163409</th>\n      <td>Zimbabwe</td>\n      <td>2022-04-26</td>\n      <td>247667</td>\n    </tr>\n    <tr>\n      <th>163412</th>\n      <td>Zimbabwe</td>\n      <td>2022-04-27</td>\n      <td>247729</td>\n    </tr>\n  </tbody>\n</table>\n<p>163746 rows × 3 columns</p>\n</div>"
     },
     "execution_count": 54,
     "metadata": {},
     "output_type": "execute_result"
    }
   ],
   "source": [
    "cases = pd.melt(glob_cases,\n",
    "                [\"Province/State\", \"Country/Region\", \"Lat\", \"Long\"],\n",
    "                var_name=\"Date\",\n",
    "                value_name=\"Cases\")\n",
    "\n",
    "cases = cases.drop(['Province/State','Lat','Long'], axis=1)\n",
    "cases = cases.groupby(['Country/Region','Date']).sum().reset_index()\n",
    "cases['Date'] = pd.to_datetime(cases['Date'], errors='coerce')\n",
    "cases = cases.sort_values(by=['Country/Region','Date'])\n",
    "cases"
   ],
   "metadata": {
    "collapsed": false,
    "pycharm": {
     "name": "#%%\n"
    }
   }
  },
  {
   "cell_type": "code",
   "execution_count": 55,
   "outputs": [
    {
     "data": {
      "text/plain": "       Country/Region       Date  Deaths  Recovered   Cases\n0         Afghanistan 2020-01-22       0          0       0\n1         Afghanistan 2020-01-23       0          0       0\n2         Afghanistan 2020-01-24       0          0       0\n3         Afghanistan 2020-01-25       0          0       0\n4         Afghanistan 2020-01-26       0          0       0\n...               ...        ...     ...        ...     ...\n163741       Zimbabwe 2022-04-23    5468          0  247524\n163742       Zimbabwe 2022-04-24    5468          0  247524\n163743       Zimbabwe 2022-04-25    5468          0  247598\n163744       Zimbabwe 2022-04-26    5469          0  247667\n163745       Zimbabwe 2022-04-27    5469          0  247729\n\n[163746 rows x 5 columns]",
      "text/html": "<div>\n<style scoped>\n    .dataframe tbody tr th:only-of-type {\n        vertical-align: middle;\n    }\n\n    .dataframe tbody tr th {\n        vertical-align: top;\n    }\n\n    .dataframe thead th {\n        text-align: right;\n    }\n</style>\n<table border=\"1\" class=\"dataframe\">\n  <thead>\n    <tr style=\"text-align: right;\">\n      <th></th>\n      <th>Country/Region</th>\n      <th>Date</th>\n      <th>Deaths</th>\n      <th>Recovered</th>\n      <th>Cases</th>\n    </tr>\n  </thead>\n  <tbody>\n    <tr>\n      <th>0</th>\n      <td>Afghanistan</td>\n      <td>2020-01-22</td>\n      <td>0</td>\n      <td>0</td>\n      <td>0</td>\n    </tr>\n    <tr>\n      <th>1</th>\n      <td>Afghanistan</td>\n      <td>2020-01-23</td>\n      <td>0</td>\n      <td>0</td>\n      <td>0</td>\n    </tr>\n    <tr>\n      <th>2</th>\n      <td>Afghanistan</td>\n      <td>2020-01-24</td>\n      <td>0</td>\n      <td>0</td>\n      <td>0</td>\n    </tr>\n    <tr>\n      <th>3</th>\n      <td>Afghanistan</td>\n      <td>2020-01-25</td>\n      <td>0</td>\n      <td>0</td>\n      <td>0</td>\n    </tr>\n    <tr>\n      <th>4</th>\n      <td>Afghanistan</td>\n      <td>2020-01-26</td>\n      <td>0</td>\n      <td>0</td>\n      <td>0</td>\n    </tr>\n    <tr>\n      <th>...</th>\n      <td>...</td>\n      <td>...</td>\n      <td>...</td>\n      <td>...</td>\n      <td>...</td>\n    </tr>\n    <tr>\n      <th>163741</th>\n      <td>Zimbabwe</td>\n      <td>2022-04-23</td>\n      <td>5468</td>\n      <td>0</td>\n      <td>247524</td>\n    </tr>\n    <tr>\n      <th>163742</th>\n      <td>Zimbabwe</td>\n      <td>2022-04-24</td>\n      <td>5468</td>\n      <td>0</td>\n      <td>247524</td>\n    </tr>\n    <tr>\n      <th>163743</th>\n      <td>Zimbabwe</td>\n      <td>2022-04-25</td>\n      <td>5468</td>\n      <td>0</td>\n      <td>247598</td>\n    </tr>\n    <tr>\n      <th>163744</th>\n      <td>Zimbabwe</td>\n      <td>2022-04-26</td>\n      <td>5469</td>\n      <td>0</td>\n      <td>247667</td>\n    </tr>\n    <tr>\n      <th>163745</th>\n      <td>Zimbabwe</td>\n      <td>2022-04-27</td>\n      <td>5469</td>\n      <td>0</td>\n      <td>247729</td>\n    </tr>\n  </tbody>\n</table>\n<p>163746 rows × 5 columns</p>\n</div>"
     },
     "execution_count": 55,
     "metadata": {},
     "output_type": "execute_result"
    }
   ],
   "source": [
    "data = data.merge(how = 'outer', right=cases, on=['Country/Region', 'Date'])\n",
    "data"
   ],
   "metadata": {
    "collapsed": false,
    "pycharm": {
     "name": "#%%\n"
    }
   }
  },
  {
   "cell_type": "code",
   "execution_count": 56,
   "outputs": [
    {
     "data": {
      "text/plain": "            Country_Region        Date   Doses_admin  \\\n0                   Canada  2020-12-14  5.000000e+00   \n1                    World  2020-12-14  5.000000e+00   \n2                   Canada  2020-12-15  7.230000e+02   \n3                    China  2020-12-15  1.500000e+06   \n4                   Russia  2020-12-15  2.850000e+04   \n...                    ...         ...           ...   \n220743  West Bank and Gaza  2022-04-27  3.718981e+06   \n220744               World  2022-04-27  1.132536e+10   \n220745               Yemen  2022-04-27  8.218530e+05   \n220746              Zambia  2022-04-27  3.478542e+06   \n220747            Zimbabwe  2022-04-27  1.023125e+07   \n\n        People_partially_vaccinated  People_fully_vaccinated  \\\n0                      0.000000e+00             0.000000e+00   \n1                      0.000000e+00             0.000000e+00   \n2                      0.000000e+00             0.000000e+00   \n3                      0.000000e+00             0.000000e+00   \n4                      2.850000e+04             0.000000e+00   \n...                             ...                      ...   \n220743                          NaN                      NaN   \n220744                 4.941723e+09             4.468777e+09   \n220745                 6.569570e+05             4.187850e+05   \n220746                 2.829929e+06             2.398679e+06   \n220747                 5.841440e+06             3.651987e+06   \n\n       Report_Date_String    UID Province_State  \n0              2020-12-14  124.0            NaN  \n1              2020-12-14    NaN            NaN  \n2              2020-12-15  124.0            NaN  \n3              2020-12-15  156.0            NaN  \n4              2020-12-15  643.0            NaN  \n...                   ...    ...            ...  \n220743         2022-04-28  275.0            NaN  \n220744         2022-04-28    NaN            NaN  \n220745         2022-04-28  887.0            NaN  \n220746         2022-04-28  894.0            NaN  \n220747         2022-04-28  716.0            NaN  \n\n[220748 rows x 8 columns]",
      "text/html": "<div>\n<style scoped>\n    .dataframe tbody tr th:only-of-type {\n        vertical-align: middle;\n    }\n\n    .dataframe tbody tr th {\n        vertical-align: top;\n    }\n\n    .dataframe thead th {\n        text-align: right;\n    }\n</style>\n<table border=\"1\" class=\"dataframe\">\n  <thead>\n    <tr style=\"text-align: right;\">\n      <th></th>\n      <th>Country_Region</th>\n      <th>Date</th>\n      <th>Doses_admin</th>\n      <th>People_partially_vaccinated</th>\n      <th>People_fully_vaccinated</th>\n      <th>Report_Date_String</th>\n      <th>UID</th>\n      <th>Province_State</th>\n    </tr>\n  </thead>\n  <tbody>\n    <tr>\n      <th>0</th>\n      <td>Canada</td>\n      <td>2020-12-14</td>\n      <td>5.000000e+00</td>\n      <td>0.000000e+00</td>\n      <td>0.000000e+00</td>\n      <td>2020-12-14</td>\n      <td>124.0</td>\n      <td>NaN</td>\n    </tr>\n    <tr>\n      <th>1</th>\n      <td>World</td>\n      <td>2020-12-14</td>\n      <td>5.000000e+00</td>\n      <td>0.000000e+00</td>\n      <td>0.000000e+00</td>\n      <td>2020-12-14</td>\n      <td>NaN</td>\n      <td>NaN</td>\n    </tr>\n    <tr>\n      <th>2</th>\n      <td>Canada</td>\n      <td>2020-12-15</td>\n      <td>7.230000e+02</td>\n      <td>0.000000e+00</td>\n      <td>0.000000e+00</td>\n      <td>2020-12-15</td>\n      <td>124.0</td>\n      <td>NaN</td>\n    </tr>\n    <tr>\n      <th>3</th>\n      <td>China</td>\n      <td>2020-12-15</td>\n      <td>1.500000e+06</td>\n      <td>0.000000e+00</td>\n      <td>0.000000e+00</td>\n      <td>2020-12-15</td>\n      <td>156.0</td>\n      <td>NaN</td>\n    </tr>\n    <tr>\n      <th>4</th>\n      <td>Russia</td>\n      <td>2020-12-15</td>\n      <td>2.850000e+04</td>\n      <td>2.850000e+04</td>\n      <td>0.000000e+00</td>\n      <td>2020-12-15</td>\n      <td>643.0</td>\n      <td>NaN</td>\n    </tr>\n    <tr>\n      <th>...</th>\n      <td>...</td>\n      <td>...</td>\n      <td>...</td>\n      <td>...</td>\n      <td>...</td>\n      <td>...</td>\n      <td>...</td>\n      <td>...</td>\n    </tr>\n    <tr>\n      <th>220743</th>\n      <td>West Bank and Gaza</td>\n      <td>2022-04-27</td>\n      <td>3.718981e+06</td>\n      <td>NaN</td>\n      <td>NaN</td>\n      <td>2022-04-28</td>\n      <td>275.0</td>\n      <td>NaN</td>\n    </tr>\n    <tr>\n      <th>220744</th>\n      <td>World</td>\n      <td>2022-04-27</td>\n      <td>1.132536e+10</td>\n      <td>4.941723e+09</td>\n      <td>4.468777e+09</td>\n      <td>2022-04-28</td>\n      <td>NaN</td>\n      <td>NaN</td>\n    </tr>\n    <tr>\n      <th>220745</th>\n      <td>Yemen</td>\n      <td>2022-04-27</td>\n      <td>8.218530e+05</td>\n      <td>6.569570e+05</td>\n      <td>4.187850e+05</td>\n      <td>2022-04-28</td>\n      <td>887.0</td>\n      <td>NaN</td>\n    </tr>\n    <tr>\n      <th>220746</th>\n      <td>Zambia</td>\n      <td>2022-04-27</td>\n      <td>3.478542e+06</td>\n      <td>2.829929e+06</td>\n      <td>2.398679e+06</td>\n      <td>2022-04-28</td>\n      <td>894.0</td>\n      <td>NaN</td>\n    </tr>\n    <tr>\n      <th>220747</th>\n      <td>Zimbabwe</td>\n      <td>2022-04-27</td>\n      <td>1.023125e+07</td>\n      <td>5.841440e+06</td>\n      <td>3.651987e+06</td>\n      <td>2022-04-28</td>\n      <td>716.0</td>\n      <td>NaN</td>\n    </tr>\n  </tbody>\n</table>\n<p>220748 rows × 8 columns</p>\n</div>"
     },
     "execution_count": 56,
     "metadata": {},
     "output_type": "execute_result"
    }
   ],
   "source": [
    "glob_vacc"
   ],
   "metadata": {
    "collapsed": false,
    "pycharm": {
     "name": "#%%\n"
    }
   }
  },
  {
   "cell_type": "code",
   "execution_count": 63,
   "outputs": [
    {
     "data": {
      "text/plain": "            Country/Region       Date   Doses_admin  \\\n0                   Canada 2020-12-14  5.000000e+00   \n1                    World 2020-12-14  5.000000e+00   \n2                   Canada 2020-12-15  7.230000e+02   \n3                    China 2020-12-15  1.500000e+06   \n4                   Russia 2020-12-15  2.850000e+04   \n...                    ...        ...           ...   \n220743  West Bank and Gaza 2022-04-27  3.718981e+06   \n220744               World 2022-04-27  1.132536e+10   \n220745               Yemen 2022-04-27  8.218530e+05   \n220746              Zambia 2022-04-27  3.478542e+06   \n220747            Zimbabwe 2022-04-27  1.023125e+07   \n\n        People_partially_vaccinated  People_fully_vaccinated  \n0                      0.000000e+00             0.000000e+00  \n1                      0.000000e+00             0.000000e+00  \n2                      0.000000e+00             0.000000e+00  \n3                      0.000000e+00             0.000000e+00  \n4                      2.850000e+04             0.000000e+00  \n...                             ...                      ...  \n220743                          NaN                      NaN  \n220744                 4.941723e+09             4.468777e+09  \n220745                 6.569570e+05             4.187850e+05  \n220746                 2.829929e+06             2.398679e+06  \n220747                 5.841440e+06             3.651987e+06  \n\n[220748 rows x 5 columns]",
      "text/html": "<div>\n<style scoped>\n    .dataframe tbody tr th:only-of-type {\n        vertical-align: middle;\n    }\n\n    .dataframe tbody tr th {\n        vertical-align: top;\n    }\n\n    .dataframe thead th {\n        text-align: right;\n    }\n</style>\n<table border=\"1\" class=\"dataframe\">\n  <thead>\n    <tr style=\"text-align: right;\">\n      <th></th>\n      <th>Country/Region</th>\n      <th>Date</th>\n      <th>Doses_admin</th>\n      <th>People_partially_vaccinated</th>\n      <th>People_fully_vaccinated</th>\n    </tr>\n  </thead>\n  <tbody>\n    <tr>\n      <th>0</th>\n      <td>Canada</td>\n      <td>2020-12-14</td>\n      <td>5.000000e+00</td>\n      <td>0.000000e+00</td>\n      <td>0.000000e+00</td>\n    </tr>\n    <tr>\n      <th>1</th>\n      <td>World</td>\n      <td>2020-12-14</td>\n      <td>5.000000e+00</td>\n      <td>0.000000e+00</td>\n      <td>0.000000e+00</td>\n    </tr>\n    <tr>\n      <th>2</th>\n      <td>Canada</td>\n      <td>2020-12-15</td>\n      <td>7.230000e+02</td>\n      <td>0.000000e+00</td>\n      <td>0.000000e+00</td>\n    </tr>\n    <tr>\n      <th>3</th>\n      <td>China</td>\n      <td>2020-12-15</td>\n      <td>1.500000e+06</td>\n      <td>0.000000e+00</td>\n      <td>0.000000e+00</td>\n    </tr>\n    <tr>\n      <th>4</th>\n      <td>Russia</td>\n      <td>2020-12-15</td>\n      <td>2.850000e+04</td>\n      <td>2.850000e+04</td>\n      <td>0.000000e+00</td>\n    </tr>\n    <tr>\n      <th>...</th>\n      <td>...</td>\n      <td>...</td>\n      <td>...</td>\n      <td>...</td>\n      <td>...</td>\n    </tr>\n    <tr>\n      <th>220743</th>\n      <td>West Bank and Gaza</td>\n      <td>2022-04-27</td>\n      <td>3.718981e+06</td>\n      <td>NaN</td>\n      <td>NaN</td>\n    </tr>\n    <tr>\n      <th>220744</th>\n      <td>World</td>\n      <td>2022-04-27</td>\n      <td>1.132536e+10</td>\n      <td>4.941723e+09</td>\n      <td>4.468777e+09</td>\n    </tr>\n    <tr>\n      <th>220745</th>\n      <td>Yemen</td>\n      <td>2022-04-27</td>\n      <td>8.218530e+05</td>\n      <td>6.569570e+05</td>\n      <td>4.187850e+05</td>\n    </tr>\n    <tr>\n      <th>220746</th>\n      <td>Zambia</td>\n      <td>2022-04-27</td>\n      <td>3.478542e+06</td>\n      <td>2.829929e+06</td>\n      <td>2.398679e+06</td>\n    </tr>\n    <tr>\n      <th>220747</th>\n      <td>Zimbabwe</td>\n      <td>2022-04-27</td>\n      <td>1.023125e+07</td>\n      <td>5.841440e+06</td>\n      <td>3.651987e+06</td>\n    </tr>\n  </tbody>\n</table>\n<p>220748 rows × 5 columns</p>\n</div>"
     },
     "execution_count": 63,
     "metadata": {},
     "output_type": "execute_result"
    }
   ],
   "source": [
    "vacc_data = glob_vacc[['Country_Region','Date','Doses_admin','People_partially_vaccinated','People_fully_vaccinated']]\n",
    "vacc_data = vacc_data.rename(columns={'Country_Region': 'Country/Region'})\n",
    "vacc_data['Date'] =  pd.to_datetime(vacc_data['Date'], errors='coerce')\n",
    "vacc_data"
   ],
   "metadata": {
    "collapsed": false,
    "pycharm": {
     "name": "#%%\n"
    }
   }
  },
  {
   "cell_type": "code",
   "execution_count": 64,
   "outputs": [
    {
     "data": {
      "text/plain": "        Country/Region       Date  Deaths  Recovered  Cases   Doses_admin  \\\n0          Afghanistan 2020-01-22     0.0        0.0    0.0           NaN   \n1          Afghanistan 2020-01-23     0.0        0.0    0.0           NaN   \n2          Afghanistan 2020-01-24     0.0        0.0    0.0           NaN   \n3          Afghanistan 2020-01-25     0.0        0.0    0.0           NaN   \n4          Afghanistan 2020-01-26     0.0        0.0    0.0           NaN   \n...                ...        ...     ...        ...    ...           ...   \n308608           World 2022-04-25     NaN        NaN    NaN  1.125401e+10   \n308609  US (Aggregate) 2022-04-26     NaN        NaN    NaN  5.715381e+08   \n308610           World 2022-04-26     NaN        NaN    NaN  1.126376e+10   \n308611  US (Aggregate) 2022-04-27     NaN        NaN    NaN  5.722165e+08   \n308612           World 2022-04-27     NaN        NaN    NaN  1.132536e+10   \n\n        People_partially_vaccinated  People_fully_vaccinated  \n0                               NaN                      NaN  \n1                               NaN                      NaN  \n2                               NaN                      NaN  \n3                               NaN                      NaN  \n4                               NaN                      NaN  \n...                             ...                      ...  \n308608                 4.922313e+09             4.446615e+09  \n308609                 2.573548e+08             2.194234e+08  \n308610                 4.923267e+09             4.449440e+09  \n308611                 2.574233e+08             2.194834e+08  \n308612                 4.941723e+09             4.468777e+09  \n\n[308613 rows x 8 columns]",
      "text/html": "<div>\n<style scoped>\n    .dataframe tbody tr th:only-of-type {\n        vertical-align: middle;\n    }\n\n    .dataframe tbody tr th {\n        vertical-align: top;\n    }\n\n    .dataframe thead th {\n        text-align: right;\n    }\n</style>\n<table border=\"1\" class=\"dataframe\">\n  <thead>\n    <tr style=\"text-align: right;\">\n      <th></th>\n      <th>Country/Region</th>\n      <th>Date</th>\n      <th>Deaths</th>\n      <th>Recovered</th>\n      <th>Cases</th>\n      <th>Doses_admin</th>\n      <th>People_partially_vaccinated</th>\n      <th>People_fully_vaccinated</th>\n    </tr>\n  </thead>\n  <tbody>\n    <tr>\n      <th>0</th>\n      <td>Afghanistan</td>\n      <td>2020-01-22</td>\n      <td>0.0</td>\n      <td>0.0</td>\n      <td>0.0</td>\n      <td>NaN</td>\n      <td>NaN</td>\n      <td>NaN</td>\n    </tr>\n    <tr>\n      <th>1</th>\n      <td>Afghanistan</td>\n      <td>2020-01-23</td>\n      <td>0.0</td>\n      <td>0.0</td>\n      <td>0.0</td>\n      <td>NaN</td>\n      <td>NaN</td>\n      <td>NaN</td>\n    </tr>\n    <tr>\n      <th>2</th>\n      <td>Afghanistan</td>\n      <td>2020-01-24</td>\n      <td>0.0</td>\n      <td>0.0</td>\n      <td>0.0</td>\n      <td>NaN</td>\n      <td>NaN</td>\n      <td>NaN</td>\n    </tr>\n    <tr>\n      <th>3</th>\n      <td>Afghanistan</td>\n      <td>2020-01-25</td>\n      <td>0.0</td>\n      <td>0.0</td>\n      <td>0.0</td>\n      <td>NaN</td>\n      <td>NaN</td>\n      <td>NaN</td>\n    </tr>\n    <tr>\n      <th>4</th>\n      <td>Afghanistan</td>\n      <td>2020-01-26</td>\n      <td>0.0</td>\n      <td>0.0</td>\n      <td>0.0</td>\n      <td>NaN</td>\n      <td>NaN</td>\n      <td>NaN</td>\n    </tr>\n    <tr>\n      <th>...</th>\n      <td>...</td>\n      <td>...</td>\n      <td>...</td>\n      <td>...</td>\n      <td>...</td>\n      <td>...</td>\n      <td>...</td>\n      <td>...</td>\n    </tr>\n    <tr>\n      <th>308608</th>\n      <td>World</td>\n      <td>2022-04-25</td>\n      <td>NaN</td>\n      <td>NaN</td>\n      <td>NaN</td>\n      <td>1.125401e+10</td>\n      <td>4.922313e+09</td>\n      <td>4.446615e+09</td>\n    </tr>\n    <tr>\n      <th>308609</th>\n      <td>US (Aggregate)</td>\n      <td>2022-04-26</td>\n      <td>NaN</td>\n      <td>NaN</td>\n      <td>NaN</td>\n      <td>5.715381e+08</td>\n      <td>2.573548e+08</td>\n      <td>2.194234e+08</td>\n    </tr>\n    <tr>\n      <th>308610</th>\n      <td>World</td>\n      <td>2022-04-26</td>\n      <td>NaN</td>\n      <td>NaN</td>\n      <td>NaN</td>\n      <td>1.126376e+10</td>\n      <td>4.923267e+09</td>\n      <td>4.449440e+09</td>\n    </tr>\n    <tr>\n      <th>308611</th>\n      <td>US (Aggregate)</td>\n      <td>2022-04-27</td>\n      <td>NaN</td>\n      <td>NaN</td>\n      <td>NaN</td>\n      <td>5.722165e+08</td>\n      <td>2.574233e+08</td>\n      <td>2.194834e+08</td>\n    </tr>\n    <tr>\n      <th>308612</th>\n      <td>World</td>\n      <td>2022-04-27</td>\n      <td>NaN</td>\n      <td>NaN</td>\n      <td>NaN</td>\n      <td>1.132536e+10</td>\n      <td>4.941723e+09</td>\n      <td>4.468777e+09</td>\n    </tr>\n  </tbody>\n</table>\n<p>308613 rows × 8 columns</p>\n</div>"
     },
     "execution_count": 64,
     "metadata": {},
     "output_type": "execute_result"
    }
   ],
   "source": [
    "full_data = data.merge(right = vacc_data, on = ['Country/Region', 'Date'], how = 'outer')\n",
    "full_data"
   ],
   "metadata": {
    "collapsed": false,
    "pycharm": {
     "name": "#%%\n"
    }
   }
  },
  {
   "cell_type": "code",
   "execution_count": 66,
   "outputs": [
    {
     "data": {
      "text/plain": "              country 2022_last_updated             area\n0               China     1,447,728,833  9,706,961 sq_km\n1               India     1,404,338,577  3,287,590 sq_km\n2       United States       334,473,589  9,372,610 sq_km\n3           Indonesia       278,652,027  1,904,569 sq_km\n4            Pakistan       228,746,300    881,912 sq_km\n..                ...               ...              ...\n219        Montserrat             4,965        102 sq_km\n220  Falkland Islands             3,539     12,173 sq_km\n221              Niue             1,622        260 sq_km\n222           Tokelau             1,378         12 sq_km\n223      Vatican City               799          1 sq_km\n\n[224 rows x 3 columns]",
      "text/html": "<div>\n<style scoped>\n    .dataframe tbody tr th:only-of-type {\n        vertical-align: middle;\n    }\n\n    .dataframe tbody tr th {\n        vertical-align: top;\n    }\n\n    .dataframe thead th {\n        text-align: right;\n    }\n</style>\n<table border=\"1\" class=\"dataframe\">\n  <thead>\n    <tr style=\"text-align: right;\">\n      <th></th>\n      <th>country</th>\n      <th>2022_last_updated</th>\n      <th>area</th>\n    </tr>\n  </thead>\n  <tbody>\n    <tr>\n      <th>0</th>\n      <td>China</td>\n      <td>1,447,728,833</td>\n      <td>9,706,961 sq_km</td>\n    </tr>\n    <tr>\n      <th>1</th>\n      <td>India</td>\n      <td>1,404,338,577</td>\n      <td>3,287,590 sq_km</td>\n    </tr>\n    <tr>\n      <th>2</th>\n      <td>United States</td>\n      <td>334,473,589</td>\n      <td>9,372,610 sq_km</td>\n    </tr>\n    <tr>\n      <th>3</th>\n      <td>Indonesia</td>\n      <td>278,652,027</td>\n      <td>1,904,569 sq_km</td>\n    </tr>\n    <tr>\n      <th>4</th>\n      <td>Pakistan</td>\n      <td>228,746,300</td>\n      <td>881,912 sq_km</td>\n    </tr>\n    <tr>\n      <th>...</th>\n      <td>...</td>\n      <td>...</td>\n      <td>...</td>\n    </tr>\n    <tr>\n      <th>219</th>\n      <td>Montserrat</td>\n      <td>4,965</td>\n      <td>102 sq_km</td>\n    </tr>\n    <tr>\n      <th>220</th>\n      <td>Falkland Islands</td>\n      <td>3,539</td>\n      <td>12,173 sq_km</td>\n    </tr>\n    <tr>\n      <th>221</th>\n      <td>Niue</td>\n      <td>1,622</td>\n      <td>260 sq_km</td>\n    </tr>\n    <tr>\n      <th>222</th>\n      <td>Tokelau</td>\n      <td>1,378</td>\n      <td>12 sq_km</td>\n    </tr>\n    <tr>\n      <th>223</th>\n      <td>Vatican City</td>\n      <td>799</td>\n      <td>1 sq_km</td>\n    </tr>\n  </tbody>\n</table>\n<p>224 rows × 3 columns</p>\n</div>"
     },
     "execution_count": 66,
     "metadata": {},
     "output_type": "execute_result"
    }
   ],
   "source": [
    "population_data = pd.read_csv('2022_population.csv')\n",
    "population_data = population_data[['country','2022_last_updated','area']]\n",
    "population_data"
   ],
   "metadata": {
    "collapsed": false,
    "pycharm": {
     "name": "#%%\n"
    }
   }
  },
  {
   "cell_type": "code",
   "execution_count": 72,
   "outputs": [
    {
     "data": {
      "text/plain": "              country 2022_last_updated             area\n0               China        1447728833  9,706,961 sq_km\n1               India        1404338577  3,287,590 sq_km\n2       United States         334473589  9,372,610 sq_km\n3           Indonesia         278652027  1,904,569 sq_km\n4            Pakistan         228746300    881,912 sq_km\n..                ...               ...              ...\n219        Montserrat              4965        102 sq_km\n220  Falkland Islands              3539     12,173 sq_km\n221              Niue              1622        260 sq_km\n222           Tokelau              1378         12 sq_km\n223      Vatican City               799          1 sq_km\n\n[224 rows x 3 columns]",
      "text/html": "<div>\n<style scoped>\n    .dataframe tbody tr th:only-of-type {\n        vertical-align: middle;\n    }\n\n    .dataframe tbody tr th {\n        vertical-align: top;\n    }\n\n    .dataframe thead th {\n        text-align: right;\n    }\n</style>\n<table border=\"1\" class=\"dataframe\">\n  <thead>\n    <tr style=\"text-align: right;\">\n      <th></th>\n      <th>country</th>\n      <th>2022_last_updated</th>\n      <th>area</th>\n    </tr>\n  </thead>\n  <tbody>\n    <tr>\n      <th>0</th>\n      <td>China</td>\n      <td>1447728833</td>\n      <td>9,706,961 sq_km</td>\n    </tr>\n    <tr>\n      <th>1</th>\n      <td>India</td>\n      <td>1404338577</td>\n      <td>3,287,590 sq_km</td>\n    </tr>\n    <tr>\n      <th>2</th>\n      <td>United States</td>\n      <td>334473589</td>\n      <td>9,372,610 sq_km</td>\n    </tr>\n    <tr>\n      <th>3</th>\n      <td>Indonesia</td>\n      <td>278652027</td>\n      <td>1,904,569 sq_km</td>\n    </tr>\n    <tr>\n      <th>4</th>\n      <td>Pakistan</td>\n      <td>228746300</td>\n      <td>881,912 sq_km</td>\n    </tr>\n    <tr>\n      <th>...</th>\n      <td>...</td>\n      <td>...</td>\n      <td>...</td>\n    </tr>\n    <tr>\n      <th>219</th>\n      <td>Montserrat</td>\n      <td>4965</td>\n      <td>102 sq_km</td>\n    </tr>\n    <tr>\n      <th>220</th>\n      <td>Falkland Islands</td>\n      <td>3539</td>\n      <td>12,173 sq_km</td>\n    </tr>\n    <tr>\n      <th>221</th>\n      <td>Niue</td>\n      <td>1622</td>\n      <td>260 sq_km</td>\n    </tr>\n    <tr>\n      <th>222</th>\n      <td>Tokelau</td>\n      <td>1378</td>\n      <td>12 sq_km</td>\n    </tr>\n    <tr>\n      <th>223</th>\n      <td>Vatican City</td>\n      <td>799</td>\n      <td>1 sq_km</td>\n    </tr>\n  </tbody>\n</table>\n<p>224 rows × 3 columns</p>\n</div>"
     },
     "execution_count": 72,
     "metadata": {},
     "output_type": "execute_result"
    }
   ],
   "source": [
    "import re\n",
    "for i in range(len(population_data)):\n",
    "    population_data['2022_last_updated'].iloc[i] = int(re.sub(',', '', population_data['2022_last_updated'].iloc[i]))\n",
    "\n",
    "population_data"
   ],
   "metadata": {
    "collapsed": false,
    "pycharm": {
     "name": "#%%\n"
    }
   }
  },
  {
   "cell_type": "code",
   "execution_count": 75,
   "outputs": [
    {
     "data": {
      "text/plain": "              country 2022_last_updated     area\n0               China        1447728833  9706961\n1               India        1404338577  3287590\n2       United States         334473589  9372610\n3           Indonesia         278652027  1904569\n4            Pakistan         228746300   881912\n..                ...               ...      ...\n219        Montserrat              4965      102\n220  Falkland Islands              3539    12173\n221              Niue              1622      260\n222           Tokelau              1378       12\n223      Vatican City               799        1\n\n[224 rows x 3 columns]",
      "text/html": "<div>\n<style scoped>\n    .dataframe tbody tr th:only-of-type {\n        vertical-align: middle;\n    }\n\n    .dataframe tbody tr th {\n        vertical-align: top;\n    }\n\n    .dataframe thead th {\n        text-align: right;\n    }\n</style>\n<table border=\"1\" class=\"dataframe\">\n  <thead>\n    <tr style=\"text-align: right;\">\n      <th></th>\n      <th>country</th>\n      <th>2022_last_updated</th>\n      <th>area</th>\n    </tr>\n  </thead>\n  <tbody>\n    <tr>\n      <th>0</th>\n      <td>China</td>\n      <td>1447728833</td>\n      <td>9706961</td>\n    </tr>\n    <tr>\n      <th>1</th>\n      <td>India</td>\n      <td>1404338577</td>\n      <td>3287590</td>\n    </tr>\n    <tr>\n      <th>2</th>\n      <td>United States</td>\n      <td>334473589</td>\n      <td>9372610</td>\n    </tr>\n    <tr>\n      <th>3</th>\n      <td>Indonesia</td>\n      <td>278652027</td>\n      <td>1904569</td>\n    </tr>\n    <tr>\n      <th>4</th>\n      <td>Pakistan</td>\n      <td>228746300</td>\n      <td>881912</td>\n    </tr>\n    <tr>\n      <th>...</th>\n      <td>...</td>\n      <td>...</td>\n      <td>...</td>\n    </tr>\n    <tr>\n      <th>219</th>\n      <td>Montserrat</td>\n      <td>4965</td>\n      <td>102</td>\n    </tr>\n    <tr>\n      <th>220</th>\n      <td>Falkland Islands</td>\n      <td>3539</td>\n      <td>12173</td>\n    </tr>\n    <tr>\n      <th>221</th>\n      <td>Niue</td>\n      <td>1622</td>\n      <td>260</td>\n    </tr>\n    <tr>\n      <th>222</th>\n      <td>Tokelau</td>\n      <td>1378</td>\n      <td>12</td>\n    </tr>\n    <tr>\n      <th>223</th>\n      <td>Vatican City</td>\n      <td>799</td>\n      <td>1</td>\n    </tr>\n  </tbody>\n</table>\n<p>224 rows × 3 columns</p>\n</div>"
     },
     "execution_count": 75,
     "metadata": {},
     "output_type": "execute_result"
    }
   ],
   "source": [
    "for i in range(len(population_data)):\n",
    "    population_data['area'].iloc[i] = re.sub(',', '', population_data['area'].iloc[i])\n",
    "    population_data['area'].iloc[i] = int(re.sub('sq_km', '', population_data['area'].iloc[i]))\n",
    "\n",
    "population_data"
   ],
   "metadata": {
    "collapsed": false,
    "pycharm": {
     "name": "#%%\n"
    }
   }
  },
  {
   "cell_type": "code",
   "execution_count": 76,
   "outputs": [
    {
     "data": {
      "text/plain": "{'American Samoa',\n 'Anguilla',\n 'Antigua And Barbuda',\n 'Aruba',\n 'Bermuda',\n 'Bosnia And Herzegovina',\n 'Cape Verde',\n 'Cayman Islands',\n 'Cook Islands',\n 'Curacao',\n 'Czech Republic',\n 'Falkland Islands',\n 'Faroe Islands',\n 'French Polynesia',\n 'Gibraltar',\n 'Greenland',\n 'Guam',\n 'Guinea Bissau',\n 'Hong Kong',\n 'Ivory Coast',\n 'Macau',\n 'Martinique',\n 'Mayotte',\n 'Montserrat',\n 'Myanmar',\n 'Nauru',\n 'New Caledonia',\n 'Niue',\n 'North Korea',\n 'Northern Mariana Islands',\n 'Palestine',\n 'Puerto Rico',\n 'Reunion',\n 'Saint Barthelemy',\n 'Saint Kitts And Nevis',\n 'Saint Martin',\n 'Saint Pierre And Miquelon',\n 'Sao Tome And Principe',\n 'Sint Maarten',\n 'South Korea',\n 'Taiwan',\n 'Timor Leste',\n 'Tokelau',\n 'Trinidad And Tobago',\n 'Turkmenistan',\n 'Turks And Caicos Islands',\n 'Tuvalu',\n 'United States',\n 'United States Virgin Islands',\n 'Vatican City',\n 'Wallis And Futuna',\n 'Western Sahara'}"
     },
     "execution_count": 76,
     "metadata": {},
     "output_type": "execute_result"
    }
   ],
   "source": [
    "set(population_data['country']) - set(full_data['Country/Region'])"
   ],
   "metadata": {
    "collapsed": false,
    "pycharm": {
     "name": "#%%\n"
    }
   }
  },
  {
   "cell_type": "markdown",
   "source": [],
   "metadata": {
    "collapsed": false
   }
  },
  {
   "cell_type": "code",
   "execution_count": 77,
   "outputs": [
    {
     "data": {
      "text/plain": "{'Antarctica',\n 'Antigua and Barbuda',\n 'Bosnia and Herzegovina',\n 'Burma',\n 'Cabo Verde',\n 'Congo (Brazzaville)',\n 'Congo (Kinshasa)',\n \"Cote d'Ivoire\",\n 'Czechia',\n 'Diamond Princess',\n 'Eswatini',\n 'Guinea-Bissau',\n 'Holy See',\n 'Korea, South',\n 'Kosovo',\n 'MS Zaandam',\n 'Saint Kitts and Nevis',\n 'Saint Vincent and the Grenadines',\n 'Sao Tome and Principe',\n 'Summer Olympics 2020',\n 'Taiwan*',\n 'Timor-Leste',\n 'Trinidad and Tobago',\n 'US',\n 'US (Aggregate)',\n 'West Bank and Gaza',\n 'Winter Olympics 2022',\n 'World'}"
     },
     "execution_count": 77,
     "metadata": {},
     "output_type": "execute_result"
    }
   ],
   "source": [
    "set(full_data['Country/Region']) - set(population_data['country'])"
   ],
   "metadata": {
    "collapsed": false,
    "pycharm": {
     "name": "#%%\n"
    }
   }
  },
  {
   "cell_type": "code",
   "execution_count": 117,
   "outputs": [],
   "source": [
    "desire = ['Antigua and Barbuda', 'Bosnia and Herzegovina', 'Cabo Verde', 'Czechia', 'Korea, South', 'Guinea-Bissau', 'Saint Kitts and Nevis', 'Sao Tome and Principe', 'Taiwan*', 'Timor-Leste','Trinidad and Tobago', 'US']\n",
    "target = ['Antigua And Barbuda', 'Bosnia And Herzegovina', 'Cape Verde', 'Czech Republic','South Korea', 'Guinea Bissau', 'Saint Kitts And Nevis', 'Sao Tome And Principe', 'Taiwan', 'Timor Leste','Trinidad And Tobago', 'United States']"
   ],
   "metadata": {
    "collapsed": false,
    "pycharm": {
     "name": "#%%\n"
    }
   }
  },
  {
   "cell_type": "code",
   "execution_count": 118,
   "outputs": [
    {
     "data": {
      "text/plain": "              country 2022_last_updated     area\n0               China        1447728833  9706961\n1               India        1404338577  3287590\n2                  US         334473589  9372610\n3           Indonesia         278652027  1904569\n4            Pakistan         228746300   881912\n..                ...               ...      ...\n219        Montserrat              4965      102\n220  Falkland Islands              3539    12173\n221              Niue              1622      260\n222           Tokelau              1378       12\n223      Vatican City               799        1\n\n[224 rows x 3 columns]",
      "text/html": "<div>\n<style scoped>\n    .dataframe tbody tr th:only-of-type {\n        vertical-align: middle;\n    }\n\n    .dataframe tbody tr th {\n        vertical-align: top;\n    }\n\n    .dataframe thead th {\n        text-align: right;\n    }\n</style>\n<table border=\"1\" class=\"dataframe\">\n  <thead>\n    <tr style=\"text-align: right;\">\n      <th></th>\n      <th>country</th>\n      <th>2022_last_updated</th>\n      <th>area</th>\n    </tr>\n  </thead>\n  <tbody>\n    <tr>\n      <th>0</th>\n      <td>China</td>\n      <td>1447728833</td>\n      <td>9706961</td>\n    </tr>\n    <tr>\n      <th>1</th>\n      <td>India</td>\n      <td>1404338577</td>\n      <td>3287590</td>\n    </tr>\n    <tr>\n      <th>2</th>\n      <td>US</td>\n      <td>334473589</td>\n      <td>9372610</td>\n    </tr>\n    <tr>\n      <th>3</th>\n      <td>Indonesia</td>\n      <td>278652027</td>\n      <td>1904569</td>\n    </tr>\n    <tr>\n      <th>4</th>\n      <td>Pakistan</td>\n      <td>228746300</td>\n      <td>881912</td>\n    </tr>\n    <tr>\n      <th>...</th>\n      <td>...</td>\n      <td>...</td>\n      <td>...</td>\n    </tr>\n    <tr>\n      <th>219</th>\n      <td>Montserrat</td>\n      <td>4965</td>\n      <td>102</td>\n    </tr>\n    <tr>\n      <th>220</th>\n      <td>Falkland Islands</td>\n      <td>3539</td>\n      <td>12173</td>\n    </tr>\n    <tr>\n      <th>221</th>\n      <td>Niue</td>\n      <td>1622</td>\n      <td>260</td>\n    </tr>\n    <tr>\n      <th>222</th>\n      <td>Tokelau</td>\n      <td>1378</td>\n      <td>12</td>\n    </tr>\n    <tr>\n      <th>223</th>\n      <td>Vatican City</td>\n      <td>799</td>\n      <td>1</td>\n    </tr>\n  </tbody>\n</table>\n<p>224 rows × 3 columns</p>\n</div>"
     },
     "execution_count": 118,
     "metadata": {},
     "output_type": "execute_result"
    }
   ],
   "source": [
    "for i in range(len(population_data)):\n",
    "    if (population_data['country'].iloc[i] in target):\n",
    "        population_data['country'].iloc[i] = desire[target.index(population_data['country'].iloc[i])]\n",
    "\n",
    "population_data"
   ],
   "metadata": {
    "collapsed": false,
    "pycharm": {
     "name": "#%%\n"
    }
   }
  },
  {
   "cell_type": "code",
   "execution_count": 119,
   "outputs": [
    {
     "data": {
      "text/plain": "{'Antarctica',\n 'Burma',\n 'Congo (Brazzaville)',\n 'Congo (Kinshasa)',\n \"Cote d'Ivoire\",\n 'Diamond Princess',\n 'Eswatini',\n 'Holy See',\n 'Kosovo',\n 'MS Zaandam',\n 'Saint Vincent and the Grenadines',\n 'Summer Olympics 2020',\n 'US (Aggregate)',\n 'West Bank and Gaza',\n 'Winter Olympics 2022',\n 'World'}"
     },
     "execution_count": 119,
     "metadata": {},
     "output_type": "execute_result"
    }
   ],
   "source": [
    "set(full_data['Country/Region']) - set(population_data['country'])"
   ],
   "metadata": {
    "collapsed": false,
    "pycharm": {
     "name": "#%%\n"
    }
   }
  },
  {
   "cell_type": "code",
   "execution_count": 121,
   "outputs": [
    {
     "data": {
      "text/plain": "       Country/Region  Population Area (sq_km)\n0               China  1447728833      9706961\n1               India  1404338577      3287590\n2                  US   334473589      9372610\n3           Indonesia   278652027      1904569\n4            Pakistan   228746300       881912\n..                ...         ...          ...\n219        Montserrat        4965          102\n220  Falkland Islands        3539        12173\n221              Niue        1622          260\n222           Tokelau        1378           12\n223      Vatican City         799            1\n\n[224 rows x 3 columns]",
      "text/html": "<div>\n<style scoped>\n    .dataframe tbody tr th:only-of-type {\n        vertical-align: middle;\n    }\n\n    .dataframe tbody tr th {\n        vertical-align: top;\n    }\n\n    .dataframe thead th {\n        text-align: right;\n    }\n</style>\n<table border=\"1\" class=\"dataframe\">\n  <thead>\n    <tr style=\"text-align: right;\">\n      <th></th>\n      <th>Country/Region</th>\n      <th>Population</th>\n      <th>Area (sq_km)</th>\n    </tr>\n  </thead>\n  <tbody>\n    <tr>\n      <th>0</th>\n      <td>China</td>\n      <td>1447728833</td>\n      <td>9706961</td>\n    </tr>\n    <tr>\n      <th>1</th>\n      <td>India</td>\n      <td>1404338577</td>\n      <td>3287590</td>\n    </tr>\n    <tr>\n      <th>2</th>\n      <td>US</td>\n      <td>334473589</td>\n      <td>9372610</td>\n    </tr>\n    <tr>\n      <th>3</th>\n      <td>Indonesia</td>\n      <td>278652027</td>\n      <td>1904569</td>\n    </tr>\n    <tr>\n      <th>4</th>\n      <td>Pakistan</td>\n      <td>228746300</td>\n      <td>881912</td>\n    </tr>\n    <tr>\n      <th>...</th>\n      <td>...</td>\n      <td>...</td>\n      <td>...</td>\n    </tr>\n    <tr>\n      <th>219</th>\n      <td>Montserrat</td>\n      <td>4965</td>\n      <td>102</td>\n    </tr>\n    <tr>\n      <th>220</th>\n      <td>Falkland Islands</td>\n      <td>3539</td>\n      <td>12173</td>\n    </tr>\n    <tr>\n      <th>221</th>\n      <td>Niue</td>\n      <td>1622</td>\n      <td>260</td>\n    </tr>\n    <tr>\n      <th>222</th>\n      <td>Tokelau</td>\n      <td>1378</td>\n      <td>12</td>\n    </tr>\n    <tr>\n      <th>223</th>\n      <td>Vatican City</td>\n      <td>799</td>\n      <td>1</td>\n    </tr>\n  </tbody>\n</table>\n<p>224 rows × 3 columns</p>\n</div>"
     },
     "execution_count": 121,
     "metadata": {},
     "output_type": "execute_result"
    }
   ],
   "source": [
    "population_data = population_data.rename(columns = {'country': 'Country/Region', '2022_last_updated': 'Population', 'area': 'Area (sq_km)'})\n",
    "population_data"
   ],
   "metadata": {
    "collapsed": false,
    "pycharm": {
     "name": "#%%\n"
    }
   }
  },
  {
   "cell_type": "code",
   "execution_count": 122,
   "outputs": [
    {
     "data": {
      "text/plain": "        Country/Region       Date  Deaths  Recovered  Cases   Doses_admin  \\\n0          Afghanistan 2020-01-22     0.0        0.0    0.0           NaN   \n1          Afghanistan 2020-01-23     0.0        0.0    0.0           NaN   \n2          Afghanistan 2020-01-24     0.0        0.0    0.0           NaN   \n3          Afghanistan 2020-01-25     0.0        0.0    0.0           NaN   \n4          Afghanistan 2020-01-26     0.0        0.0    0.0           NaN   \n...                ...        ...     ...        ...    ...           ...   \n308608           World 2022-04-25     NaN        NaN    NaN  1.125401e+10   \n308609  US (Aggregate) 2022-04-26     NaN        NaN    NaN  5.715381e+08   \n308610           World 2022-04-26     NaN        NaN    NaN  1.126376e+10   \n308611  US (Aggregate) 2022-04-27     NaN        NaN    NaN  5.722165e+08   \n308612           World 2022-04-27     NaN        NaN    NaN  1.132536e+10   \n\n        People_partially_vaccinated  People_fully_vaccinated Population  \\\n0                               NaN                      NaN   40595022   \n1                               NaN                      NaN   40595022   \n2                               NaN                      NaN   40595022   \n3                               NaN                      NaN   40595022   \n4                               NaN                      NaN   40595022   \n...                             ...                      ...        ...   \n308608                 4.922313e+09             4.446615e+09        NaN   \n308609                 2.573548e+08             2.194234e+08        NaN   \n308610                 4.923267e+09             4.449440e+09        NaN   \n308611                 2.574233e+08             2.194834e+08        NaN   \n308612                 4.941723e+09             4.468777e+09        NaN   \n\n       Area (sq_km)  \n0            652230  \n1            652230  \n2            652230  \n3            652230  \n4            652230  \n...             ...  \n308608          NaN  \n308609          NaN  \n308610          NaN  \n308611          NaN  \n308612          NaN  \n\n[308613 rows x 10 columns]",
      "text/html": "<div>\n<style scoped>\n    .dataframe tbody tr th:only-of-type {\n        vertical-align: middle;\n    }\n\n    .dataframe tbody tr th {\n        vertical-align: top;\n    }\n\n    .dataframe thead th {\n        text-align: right;\n    }\n</style>\n<table border=\"1\" class=\"dataframe\">\n  <thead>\n    <tr style=\"text-align: right;\">\n      <th></th>\n      <th>Country/Region</th>\n      <th>Date</th>\n      <th>Deaths</th>\n      <th>Recovered</th>\n      <th>Cases</th>\n      <th>Doses_admin</th>\n      <th>People_partially_vaccinated</th>\n      <th>People_fully_vaccinated</th>\n      <th>Population</th>\n      <th>Area (sq_km)</th>\n    </tr>\n  </thead>\n  <tbody>\n    <tr>\n      <th>0</th>\n      <td>Afghanistan</td>\n      <td>2020-01-22</td>\n      <td>0.0</td>\n      <td>0.0</td>\n      <td>0.0</td>\n      <td>NaN</td>\n      <td>NaN</td>\n      <td>NaN</td>\n      <td>40595022</td>\n      <td>652230</td>\n    </tr>\n    <tr>\n      <th>1</th>\n      <td>Afghanistan</td>\n      <td>2020-01-23</td>\n      <td>0.0</td>\n      <td>0.0</td>\n      <td>0.0</td>\n      <td>NaN</td>\n      <td>NaN</td>\n      <td>NaN</td>\n      <td>40595022</td>\n      <td>652230</td>\n    </tr>\n    <tr>\n      <th>2</th>\n      <td>Afghanistan</td>\n      <td>2020-01-24</td>\n      <td>0.0</td>\n      <td>0.0</td>\n      <td>0.0</td>\n      <td>NaN</td>\n      <td>NaN</td>\n      <td>NaN</td>\n      <td>40595022</td>\n      <td>652230</td>\n    </tr>\n    <tr>\n      <th>3</th>\n      <td>Afghanistan</td>\n      <td>2020-01-25</td>\n      <td>0.0</td>\n      <td>0.0</td>\n      <td>0.0</td>\n      <td>NaN</td>\n      <td>NaN</td>\n      <td>NaN</td>\n      <td>40595022</td>\n      <td>652230</td>\n    </tr>\n    <tr>\n      <th>4</th>\n      <td>Afghanistan</td>\n      <td>2020-01-26</td>\n      <td>0.0</td>\n      <td>0.0</td>\n      <td>0.0</td>\n      <td>NaN</td>\n      <td>NaN</td>\n      <td>NaN</td>\n      <td>40595022</td>\n      <td>652230</td>\n    </tr>\n    <tr>\n      <th>...</th>\n      <td>...</td>\n      <td>...</td>\n      <td>...</td>\n      <td>...</td>\n      <td>...</td>\n      <td>...</td>\n      <td>...</td>\n      <td>...</td>\n      <td>...</td>\n      <td>...</td>\n    </tr>\n    <tr>\n      <th>308608</th>\n      <td>World</td>\n      <td>2022-04-25</td>\n      <td>NaN</td>\n      <td>NaN</td>\n      <td>NaN</td>\n      <td>1.125401e+10</td>\n      <td>4.922313e+09</td>\n      <td>4.446615e+09</td>\n      <td>NaN</td>\n      <td>NaN</td>\n    </tr>\n    <tr>\n      <th>308609</th>\n      <td>US (Aggregate)</td>\n      <td>2022-04-26</td>\n      <td>NaN</td>\n      <td>NaN</td>\n      <td>NaN</td>\n      <td>5.715381e+08</td>\n      <td>2.573548e+08</td>\n      <td>2.194234e+08</td>\n      <td>NaN</td>\n      <td>NaN</td>\n    </tr>\n    <tr>\n      <th>308610</th>\n      <td>World</td>\n      <td>2022-04-26</td>\n      <td>NaN</td>\n      <td>NaN</td>\n      <td>NaN</td>\n      <td>1.126376e+10</td>\n      <td>4.923267e+09</td>\n      <td>4.449440e+09</td>\n      <td>NaN</td>\n      <td>NaN</td>\n    </tr>\n    <tr>\n      <th>308611</th>\n      <td>US (Aggregate)</td>\n      <td>2022-04-27</td>\n      <td>NaN</td>\n      <td>NaN</td>\n      <td>NaN</td>\n      <td>5.722165e+08</td>\n      <td>2.574233e+08</td>\n      <td>2.194834e+08</td>\n      <td>NaN</td>\n      <td>NaN</td>\n    </tr>\n    <tr>\n      <th>308612</th>\n      <td>World</td>\n      <td>2022-04-27</td>\n      <td>NaN</td>\n      <td>NaN</td>\n      <td>NaN</td>\n      <td>1.132536e+10</td>\n      <td>4.941723e+09</td>\n      <td>4.468777e+09</td>\n      <td>NaN</td>\n      <td>NaN</td>\n    </tr>\n  </tbody>\n</table>\n<p>308613 rows × 10 columns</p>\n</div>"
     },
     "execution_count": 122,
     "metadata": {},
     "output_type": "execute_result"
    }
   ],
   "source": [
    "full_data = full_data.merge(right = population_data, on = ['Country/Region'], how = 'left')\n",
    "full_data"
   ],
   "metadata": {
    "collapsed": false,
    "pycharm": {
     "name": "#%%\n"
    }
   }
  },
  {
   "cell_type": "code",
   "execution_count": 78,
   "outputs": [
    {
     "name": "stdout",
     "output_type": "stream",
     "text": [
      "Collecting pycountry_convert\n",
      "  Downloading pycountry_convert-0.7.2-py3-none-any.whl (13 kB)\n",
      "Collecting pycountry>=16.11.27.1\n",
      "  Downloading pycountry-22.3.5.tar.gz (10.1 MB)\n",
      "  Installing build dependencies: started\n",
      "  Installing build dependencies: finished with status 'done'\n",
      "  Getting requirements to build wheel: started\n",
      "  Getting requirements to build wheel: finished with status 'done'\n",
      "    Preparing wheel metadata: started\n",
      "    Preparing wheel metadata: finished with status 'done'\n",
      "Collecting pytest>=3.4.0\n",
      "  Downloading pytest-7.1.2-py3-none-any.whl (297 kB)\n",
      "Collecting repoze.lru>=0.7\n",
      "  Downloading repoze.lru-0.7-py3-none-any.whl (10 kB)\n",
      "Collecting pprintpp>=0.3.0\n",
      "  Downloading pprintpp-0.4.0-py2.py3-none-any.whl (16 kB)\n",
      "Collecting pytest-cov>=2.5.1\n",
      "  Downloading pytest_cov-3.0.0-py3-none-any.whl (20 kB)\n",
      "Collecting pytest-mock>=1.6.3\n",
      "  Downloading pytest_mock-3.7.0-py3-none-any.whl (12 kB)\n",
      "Requirement already satisfied: wheel>=0.30.0 in c:\\users\\ziming wei\\anaconda3\\envs\\bioconda\\lib\\site-packages (from pycountry_convert) (0.37.1)\n",
      "Requirement already satisfied: setuptools in c:\\users\\ziming wei\\anaconda3\\envs\\bioconda\\lib\\site-packages (from pycountry>=16.11.27.1->pycountry_convert) (58.0.4)\n",
      "Collecting tomli>=1.0.0\n",
      "  Downloading tomli-2.0.1-py3-none-any.whl (12 kB)\n",
      "Requirement already satisfied: colorama in c:\\users\\ziming wei\\anaconda3\\envs\\bioconda\\lib\\site-packages (from pytest>=3.4.0->pycountry_convert) (0.4.4)\n",
      "Requirement already satisfied: packaging in c:\\users\\ziming wei\\anaconda3\\envs\\bioconda\\lib\\site-packages (from pytest>=3.4.0->pycountry_convert) (21.3)\n",
      "Requirement already satisfied: attrs>=19.2.0 in c:\\users\\ziming wei\\anaconda3\\envs\\bioconda\\lib\\site-packages (from pytest>=3.4.0->pycountry_convert) (21.4.0)\n",
      "Collecting pluggy<2.0,>=0.12\n",
      "  Downloading pluggy-1.0.0-py2.py3-none-any.whl (13 kB)\n",
      "Collecting py>=1.8.2\n",
      "  Downloading py-1.11.0-py2.py3-none-any.whl (98 kB)\n",
      "Collecting atomicwrites>=1.0\n",
      "  Downloading atomicwrites-1.4.0-py2.py3-none-any.whl (6.8 kB)\n",
      "Collecting iniconfig\n",
      "  Downloading iniconfig-1.1.1-py2.py3-none-any.whl (5.0 kB)\n",
      "Collecting coverage[toml]>=5.2.1\n",
      "  Downloading coverage-6.3.2-cp38-cp38-win_amd64.whl (187 kB)\n",
      "Requirement already satisfied: pyparsing!=3.0.5,>=2.0.2 in c:\\users\\ziming wei\\anaconda3\\envs\\bioconda\\lib\\site-packages (from packaging->pytest>=3.4.0->pycountry_convert) (3.0.7)\n",
      "Building wheels for collected packages: pycountry\n",
      "  Building wheel for pycountry (PEP 517): started\n",
      "  Building wheel for pycountry (PEP 517): finished with status 'done'\n",
      "  Created wheel for pycountry: filename=pycountry-22.3.5-py2.py3-none-any.whl size=10681845 sha256=07ecd44d0a4ad7c2082ef5390d9b2e604161ea6c0f6c2d73a5f6a51cbb5371fb\n",
      "  Stored in directory: c:\\users\\ziming wei\\appdata\\local\\pip\\cache\\wheels\\e2\\aa\\0f\\c224e473b464387170b83ca7c66947b4a7e33e8d903a679748\n",
      "Successfully built pycountry\n",
      "Installing collected packages: tomli, py, pluggy, iniconfig, coverage, atomicwrites, pytest, repoze.lru, pytest-mock, pytest-cov, pycountry, pprintpp, pycountry-convert\n",
      "Successfully installed atomicwrites-1.4.0 coverage-6.3.2 iniconfig-1.1.1 pluggy-1.0.0 pprintpp-0.4.0 py-1.11.0 pycountry-22.3.5 pycountry-convert-0.7.2 pytest-7.1.2 pytest-cov-3.0.0 pytest-mock-3.7.0 repoze.lru-0.7 tomli-2.0.1\n"
     ]
    }
   ],
   "source": [
    "!pip install pycountry_convert\n",
    "import pycountry_convert as pc"
   ],
   "metadata": {
    "collapsed": false,
    "pycharm": {
     "name": "#%%\n"
    }
   }
  },
  {
   "cell_type": "code",
   "execution_count": 124,
   "outputs": [],
   "source": [
    "def country_to_continent(country_name):\n",
    "    country_alpha2 = pc.country_name_to_country_alpha2(country_name)\n",
    "    country_continent_code = pc.country_alpha2_to_continent_code(country_alpha2)\n",
    "    country_continent_name = pc.convert_continent_code_to_continent_name(country_continent_code)\n",
    "    return country_continent_name"
   ],
   "metadata": {
    "collapsed": false,
    "pycharm": {
     "name": "#%%\n"
    }
   }
  },
  {
   "cell_type": "code",
   "execution_count": 128,
   "outputs": [
    {
     "data": {
      "text/plain": "['Asia',\n 'Asia',\n 'Asia',\n 'Asia',\n 'Asia',\n 'Asia',\n 'Asia',\n 'Asia',\n 'Asia',\n 'Asia',\n 'Asia',\n 'Asia',\n 'Asia',\n 'Asia',\n 'Asia',\n 'Asia',\n 'Asia',\n 'Asia',\n 'Asia',\n 'Asia',\n 'Asia',\n 'Asia',\n 'Asia',\n 'Asia',\n 'Asia',\n 'Asia',\n 'Asia',\n 'Asia',\n 'Asia',\n 'Asia',\n 'Asia',\n 'Asia',\n 'Asia',\n 'Asia',\n 'Asia',\n 'Asia',\n 'Asia',\n 'Asia',\n 'Asia',\n 'Asia',\n 'Asia',\n 'Asia',\n 'Asia',\n 'Asia',\n 'Asia',\n 'Asia',\n 'Asia',\n 'Asia',\n 'Asia',\n 'Asia',\n 'Asia',\n 'Asia',\n 'Asia',\n 'Asia',\n 'Asia',\n 'Asia',\n 'Asia',\n 'Asia',\n 'Asia',\n 'Asia',\n 'Asia',\n 'Asia',\n 'Asia',\n 'Asia',\n 'Asia',\n 'Asia',\n 'Asia',\n 'Asia',\n 'Asia',\n 'Asia',\n 'Asia',\n 'Asia',\n 'Asia',\n 'Asia',\n 'Asia',\n 'Asia',\n 'Asia',\n 'Asia',\n 'Asia',\n 'Asia',\n 'Asia',\n 'Asia',\n 'Asia',\n 'Asia',\n 'Asia',\n 'Asia',\n 'Asia',\n 'Asia',\n 'Asia',\n 'Asia',\n 'Asia',\n 'Asia',\n 'Asia',\n 'Asia',\n 'Asia',\n 'Asia',\n 'Asia',\n 'Asia',\n 'Asia',\n 'Asia',\n 'Asia',\n 'Asia',\n 'Asia',\n 'Asia',\n 'Asia',\n 'Asia',\n 'Asia',\n 'Asia',\n 'Asia',\n 'Asia',\n 'Asia',\n 'Asia',\n 'Asia',\n 'Asia',\n 'Asia',\n 'Asia',\n 'Asia',\n 'Asia',\n 'Asia',\n 'Asia',\n 'Asia',\n 'Asia',\n 'Asia',\n 'Asia',\n 'Asia',\n 'Asia',\n 'Asia',\n 'Asia',\n 'Asia',\n 'Asia',\n 'Asia',\n 'Asia',\n 'Asia',\n 'Asia',\n 'Asia',\n 'Asia',\n 'Asia',\n 'Asia',\n 'Asia',\n 'Asia',\n 'Asia',\n 'Asia',\n 'Asia',\n 'Asia',\n 'Asia',\n 'Asia',\n 'Asia',\n 'Asia',\n 'Asia',\n 'Asia',\n 'Asia',\n 'Asia',\n 'Asia',\n 'Asia',\n 'Asia',\n 'Asia',\n 'Asia',\n 'Asia',\n 'Asia',\n 'Asia',\n 'Asia',\n 'Asia',\n 'Asia',\n 'Asia',\n 'Asia',\n 'Asia',\n 'Asia',\n 'Asia',\n 'Asia',\n 'Asia',\n 'Asia',\n 'Asia',\n 'Asia',\n 'Asia',\n 'Asia',\n 'Asia',\n 'Asia',\n 'Asia',\n 'Asia',\n 'Asia',\n 'Asia',\n 'Asia',\n 'Asia',\n 'Asia',\n 'Asia',\n 'Asia',\n 'Asia',\n 'Asia',\n 'Asia',\n 'Asia',\n 'Asia',\n 'Asia',\n 'Asia',\n 'Asia',\n 'Asia',\n 'Asia',\n 'Asia',\n 'Asia',\n 'Asia',\n 'Asia',\n 'Asia',\n 'Asia',\n 'Asia',\n 'Asia',\n 'Asia',\n 'Asia',\n 'Asia',\n 'Asia',\n 'Asia',\n 'Asia',\n 'Asia',\n 'Asia',\n 'Asia',\n 'Asia',\n 'Asia',\n 'Asia',\n 'Asia',\n 'Asia',\n 'Asia',\n 'Asia',\n 'Asia',\n 'Asia',\n 'Asia',\n 'Asia',\n 'Asia',\n 'Asia',\n 'Asia',\n 'Asia',\n 'Asia',\n 'Asia',\n 'Asia',\n 'Asia',\n 'Asia',\n 'Asia',\n 'Asia',\n 'Asia',\n 'Asia',\n 'Asia',\n 'Asia',\n 'Asia',\n 'Asia',\n 'Asia',\n 'Asia',\n 'Asia',\n 'Asia',\n 'Asia',\n 'Asia',\n 'Asia',\n 'Asia',\n 'Asia',\n 'Asia',\n 'Asia',\n 'Asia',\n 'Asia',\n 'Asia',\n 'Asia',\n 'Asia',\n 'Asia',\n 'Asia',\n 'Asia',\n 'Asia',\n 'Asia',\n 'Asia',\n 'Asia',\n 'Asia',\n 'Asia',\n 'Asia',\n 'Asia',\n 'Asia',\n 'Asia',\n 'Asia',\n 'Asia',\n 'Asia',\n 'Asia',\n 'Asia',\n 'Asia',\n 'Asia',\n 'Asia',\n 'Asia',\n 'Asia',\n 'Asia',\n 'Asia',\n 'Asia',\n 'Asia',\n 'Asia',\n 'Asia',\n 'Asia',\n 'Asia',\n 'Asia',\n 'Asia',\n 'Asia',\n 'Asia',\n 'Asia',\n 'Asia',\n 'Asia',\n 'Asia',\n 'Asia',\n 'Asia',\n 'Asia',\n 'Asia',\n 'Asia',\n 'Asia',\n 'Asia',\n 'Asia',\n 'Asia',\n 'Asia',\n 'Asia',\n 'Asia',\n 'Asia',\n 'Asia',\n 'Asia',\n 'Asia',\n 'Asia',\n 'Asia',\n 'Asia',\n 'Asia',\n 'Asia',\n 'Asia',\n 'Asia',\n 'Asia',\n 'Asia',\n 'Asia',\n 'Asia',\n 'Asia',\n 'Asia',\n 'Asia',\n 'Asia',\n 'Asia',\n 'Asia',\n 'Asia',\n 'Asia',\n 'Asia',\n 'Asia',\n 'Asia',\n 'Asia',\n 'Asia',\n 'Asia',\n 'Asia',\n 'Asia',\n 'Asia',\n 'Asia',\n 'Asia',\n 'Asia',\n 'Asia',\n 'Asia',\n 'Asia',\n 'Asia',\n 'Asia',\n 'Asia',\n 'Asia',\n 'Asia',\n 'Asia',\n 'Asia',\n 'Asia',\n 'Asia',\n 'Asia',\n 'Asia',\n 'Asia',\n 'Asia',\n 'Asia',\n 'Asia',\n 'Asia',\n 'Asia',\n 'Asia',\n 'Asia',\n 'Asia',\n 'Asia',\n 'Asia',\n 'Asia',\n 'Asia',\n 'Asia',\n 'Asia',\n 'Asia',\n 'Asia',\n 'Asia',\n 'Asia',\n 'Asia',\n 'Asia',\n 'Asia',\n 'Asia',\n 'Asia',\n 'Asia',\n 'Asia',\n 'Asia',\n 'Asia',\n 'Asia',\n 'Asia',\n 'Asia',\n 'Asia',\n 'Asia',\n 'Asia',\n 'Asia',\n 'Asia',\n 'Asia',\n 'Asia',\n 'Asia',\n 'Asia',\n 'Asia',\n 'Asia',\n 'Asia',\n 'Asia',\n 'Asia',\n 'Asia',\n 'Asia',\n 'Asia',\n 'Asia',\n 'Asia',\n 'Asia',\n 'Asia',\n 'Asia',\n 'Asia',\n 'Asia',\n 'Asia',\n 'Asia',\n 'Asia',\n 'Asia',\n 'Asia',\n 'Asia',\n 'Asia',\n 'Asia',\n 'Asia',\n 'Asia',\n 'Asia',\n 'Asia',\n 'Asia',\n 'Asia',\n 'Asia',\n 'Asia',\n 'Asia',\n 'Asia',\n 'Asia',\n 'Asia',\n 'Asia',\n 'Asia',\n 'Asia',\n 'Asia',\n 'Asia',\n 'Asia',\n 'Asia',\n 'Asia',\n 'Asia',\n 'Asia',\n 'Asia',\n 'Asia',\n 'Asia',\n 'Asia',\n 'Asia',\n 'Asia',\n 'Asia',\n 'Asia',\n 'Asia',\n 'Asia',\n 'Asia',\n 'Asia',\n 'Asia',\n 'Asia',\n 'Asia',\n 'Asia',\n 'Asia',\n 'Asia',\n 'Asia',\n 'Asia',\n 'Asia',\n 'Asia',\n 'Asia',\n 'Asia',\n 'Asia',\n 'Asia',\n 'Asia',\n 'Asia',\n 'Asia',\n 'Asia',\n 'Asia',\n 'Asia',\n 'Asia',\n 'Asia',\n 'Asia',\n 'Asia',\n 'Asia',\n 'Asia',\n 'Asia',\n 'Asia',\n 'Asia',\n 'Asia',\n 'Asia',\n 'Asia',\n 'Asia',\n 'Asia',\n 'Asia',\n 'Asia',\n 'Asia',\n 'Asia',\n 'Asia',\n 'Asia',\n 'Asia',\n 'Asia',\n 'Asia',\n 'Asia',\n 'Asia',\n 'Asia',\n 'Asia',\n 'Asia',\n 'Asia',\n 'Asia',\n 'Asia',\n 'Asia',\n 'Asia',\n 'Asia',\n 'Asia',\n 'Asia',\n 'Asia',\n 'Asia',\n 'Asia',\n 'Asia',\n 'Asia',\n 'Asia',\n 'Asia',\n 'Asia',\n 'Asia',\n 'Asia',\n 'Asia',\n 'Asia',\n 'Asia',\n 'Asia',\n 'Asia',\n 'Asia',\n 'Asia',\n 'Asia',\n 'Asia',\n 'Asia',\n 'Asia',\n 'Asia',\n 'Asia',\n 'Asia',\n 'Asia',\n 'Asia',\n 'Asia',\n 'Asia',\n 'Asia',\n 'Asia',\n 'Asia',\n 'Asia',\n 'Asia',\n 'Asia',\n 'Asia',\n 'Asia',\n 'Asia',\n 'Asia',\n 'Asia',\n 'Asia',\n 'Asia',\n 'Asia',\n 'Asia',\n 'Asia',\n 'Asia',\n 'Asia',\n 'Asia',\n 'Asia',\n 'Asia',\n 'Asia',\n 'Asia',\n 'Asia',\n 'Asia',\n 'Asia',\n 'Asia',\n 'Asia',\n 'Asia',\n 'Asia',\n 'Asia',\n 'Asia',\n 'Asia',\n 'Asia',\n 'Asia',\n 'Asia',\n 'Asia',\n 'Asia',\n 'Asia',\n 'Asia',\n 'Asia',\n 'Asia',\n 'Asia',\n 'Asia',\n 'Asia',\n 'Asia',\n 'Asia',\n 'Asia',\n 'Asia',\n 'Asia',\n 'Asia',\n 'Asia',\n 'Asia',\n 'Asia',\n 'Asia',\n 'Asia',\n 'Asia',\n 'Asia',\n 'Asia',\n 'Asia',\n 'Asia',\n 'Asia',\n 'Asia',\n 'Asia',\n 'Asia',\n 'Asia',\n 'Asia',\n 'Asia',\n 'Asia',\n 'Asia',\n 'Asia',\n 'Asia',\n 'Asia',\n 'Asia',\n 'Asia',\n 'Asia',\n 'Asia',\n 'Asia',\n 'Asia',\n 'Asia',\n 'Asia',\n 'Asia',\n 'Asia',\n 'Asia',\n 'Asia',\n 'Asia',\n 'Asia',\n 'Asia',\n 'Asia',\n 'Asia',\n 'Asia',\n 'Asia',\n 'Asia',\n 'Asia',\n 'Asia',\n 'Asia',\n 'Asia',\n 'Asia',\n 'Asia',\n 'Asia',\n 'Asia',\n 'Asia',\n 'Asia',\n 'Asia',\n 'Asia',\n 'Asia',\n 'Asia',\n 'Asia',\n 'Asia',\n 'Asia',\n 'Asia',\n 'Asia',\n 'Asia',\n 'Asia',\n 'Asia',\n 'Asia',\n 'Asia',\n 'Asia',\n 'Asia',\n 'Asia',\n 'Asia',\n 'Asia',\n 'Asia',\n 'Asia',\n 'Asia',\n 'Asia',\n 'Asia',\n 'Asia',\n 'Asia',\n 'Asia',\n 'Asia',\n 'Asia',\n 'Asia',\n 'Asia',\n 'Asia',\n 'Asia',\n 'Asia',\n 'Asia',\n 'Asia',\n 'Asia',\n 'Asia',\n 'Asia',\n 'Asia',\n 'Asia',\n 'Asia',\n 'Asia',\n 'Asia',\n 'Asia',\n 'Asia',\n 'Asia',\n 'Asia',\n 'Asia',\n 'Asia',\n 'Asia',\n 'Asia',\n 'Asia',\n 'Asia',\n 'Asia',\n 'Asia',\n 'Asia',\n 'Asia',\n 'Asia',\n 'Asia',\n 'Asia',\n 'Asia',\n 'Asia',\n 'Asia',\n 'Asia',\n 'Asia',\n 'Asia',\n 'Asia',\n 'Asia',\n 'Asia',\n 'Asia',\n 'Asia',\n 'Asia',\n 'Asia',\n 'Asia',\n 'Asia',\n 'Asia',\n 'Asia',\n 'Asia',\n 'Asia',\n 'Asia',\n 'Asia',\n 'Asia',\n 'Asia',\n 'Asia',\n 'Asia',\n 'Asia',\n 'Asia',\n 'Asia',\n 'Asia',\n 'Asia',\n 'Asia',\n 'Asia',\n 'Asia',\n 'Asia',\n 'Asia',\n 'Asia',\n 'Asia',\n 'Asia',\n 'Asia',\n 'Asia',\n 'Asia',\n 'Asia',\n 'Asia',\n 'Asia',\n 'Asia',\n 'Asia',\n 'Asia',\n 'Asia',\n 'Asia',\n 'Asia',\n 'Asia',\n 'Asia',\n 'Asia',\n 'Asia',\n 'Asia',\n 'Asia',\n 'Asia',\n 'Asia',\n 'Asia',\n 'Asia',\n 'Asia',\n 'Asia',\n 'Asia',\n 'Asia',\n 'Asia',\n 'Asia',\n 'Asia',\n 'Asia',\n 'Asia',\n 'Asia',\n 'Asia',\n 'Asia',\n 'Asia',\n 'Asia',\n 'Asia',\n 'Asia',\n 'Asia',\n 'Asia',\n 'Asia',\n 'Asia',\n 'Asia',\n 'Asia',\n 'Asia',\n 'Asia',\n 'Asia',\n 'Asia',\n 'Asia',\n 'Asia',\n 'Asia',\n 'Asia',\n 'Asia',\n 'Asia',\n 'Asia',\n 'Asia',\n 'Asia',\n 'Asia',\n 'Asia',\n 'Asia',\n 'Asia',\n 'Asia',\n 'Asia',\n 'Asia',\n 'Asia',\n 'Asia',\n 'Asia',\n 'Asia',\n 'Asia',\n 'Asia',\n 'Asia',\n 'Asia',\n 'Asia',\n 'Asia',\n 'Asia',\n 'Asia',\n 'Asia',\n 'Asia',\n 'Asia',\n 'Asia',\n 'Asia',\n 'Asia',\n 'Asia',\n 'Asia',\n 'Asia',\n 'Asia',\n 'Asia',\n 'Europe',\n 'Europe',\n 'Europe',\n 'Europe',\n 'Europe',\n 'Europe',\n 'Europe',\n 'Europe',\n 'Europe',\n 'Europe',\n 'Europe',\n 'Europe',\n 'Europe',\n 'Europe',\n 'Europe',\n 'Europe',\n 'Europe',\n 'Europe',\n 'Europe',\n 'Europe',\n 'Europe',\n 'Europe',\n 'Europe',\n 'Europe',\n 'Europe',\n 'Europe',\n 'Europe',\n 'Europe',\n 'Europe',\n 'Europe',\n 'Europe',\n 'Europe',\n 'Europe',\n 'Europe',\n 'Europe',\n 'Europe',\n 'Europe',\n 'Europe',\n 'Europe',\n 'Europe',\n 'Europe',\n 'Europe',\n 'Europe',\n 'Europe',\n 'Europe',\n 'Europe',\n 'Europe',\n 'Europe',\n 'Europe',\n 'Europe',\n 'Europe',\n 'Europe',\n 'Europe',\n 'Europe',\n 'Europe',\n 'Europe',\n 'Europe',\n 'Europe',\n 'Europe',\n 'Europe',\n 'Europe',\n 'Europe',\n 'Europe',\n 'Europe',\n 'Europe',\n 'Europe',\n 'Europe',\n 'Europe',\n 'Europe',\n 'Europe',\n 'Europe',\n 'Europe',\n 'Europe',\n 'Europe',\n 'Europe',\n 'Europe',\n 'Europe',\n 'Europe',\n 'Europe',\n 'Europe',\n 'Europe',\n 'Europe',\n 'Europe',\n 'Europe',\n 'Europe',\n 'Europe',\n 'Europe',\n 'Europe',\n 'Europe',\n 'Europe',\n 'Europe',\n 'Europe',\n 'Europe',\n 'Europe',\n 'Europe',\n 'Europe',\n 'Europe',\n 'Europe',\n 'Europe',\n 'Europe',\n 'Europe',\n 'Europe',\n 'Europe',\n 'Europe',\n 'Europe',\n 'Europe',\n 'Europe',\n 'Europe',\n 'Europe',\n 'Europe',\n 'Europe',\n 'Europe',\n 'Europe',\n 'Europe',\n 'Europe',\n 'Europe',\n 'Europe',\n 'Europe',\n 'Europe',\n 'Europe',\n 'Europe',\n 'Europe',\n 'Europe',\n 'Europe',\n 'Europe',\n 'Europe',\n 'Europe',\n 'Europe',\n 'Europe',\n 'Europe',\n 'Europe',\n 'Europe',\n 'Europe',\n 'Europe',\n 'Europe',\n 'Europe',\n 'Europe',\n 'Europe',\n 'Europe',\n 'Europe',\n 'Europe',\n 'Europe',\n 'Europe',\n 'Europe',\n 'Europe',\n 'Europe',\n 'Europe',\n 'Europe',\n 'Europe',\n 'Europe',\n 'Europe',\n 'Europe',\n 'Europe',\n 'Europe',\n 'Europe',\n 'Europe',\n 'Europe',\n 'Europe',\n 'Europe',\n 'Europe',\n 'Europe',\n 'Europe',\n 'Europe',\n 'Europe',\n 'Europe',\n 'Europe',\n 'Europe',\n 'Europe',\n 'Europe',\n 'Europe',\n 'Europe',\n 'Europe',\n 'Europe',\n ...]"
     },
     "execution_count": 128,
     "metadata": {},
     "output_type": "execute_result"
    }
   ],
   "source": [
    "Continent = ['NAN']*len(full_data)\n",
    "\n",
    "for i in range(len(full_data)):\n",
    "    try:\n",
    "        Continent[i] = country_to_continent(full_data['Country/Region'][i])\n",
    "    except:\n",
    "        pass\n",
    "\n",
    "Continent"
   ],
   "metadata": {
    "collapsed": false,
    "pycharm": {
     "name": "#%%\n"
    }
   }
  },
  {
   "cell_type": "code",
   "execution_count": 129,
   "outputs": [
    {
     "data": {
      "text/plain": "        Country/Region       Date  Deaths  Recovered  Cases   Doses_admin  \\\n0          Afghanistan 2020-01-22     0.0        0.0    0.0           NaN   \n1          Afghanistan 2020-01-23     0.0        0.0    0.0           NaN   \n2          Afghanistan 2020-01-24     0.0        0.0    0.0           NaN   \n3          Afghanistan 2020-01-25     0.0        0.0    0.0           NaN   \n4          Afghanistan 2020-01-26     0.0        0.0    0.0           NaN   \n...                ...        ...     ...        ...    ...           ...   \n308608           World 2022-04-25     NaN        NaN    NaN  1.125401e+10   \n308609  US (Aggregate) 2022-04-26     NaN        NaN    NaN  5.715381e+08   \n308610           World 2022-04-26     NaN        NaN    NaN  1.126376e+10   \n308611  US (Aggregate) 2022-04-27     NaN        NaN    NaN  5.722165e+08   \n308612           World 2022-04-27     NaN        NaN    NaN  1.132536e+10   \n\n        People_partially_vaccinated  People_fully_vaccinated Population  \\\n0                               NaN                      NaN   40595022   \n1                               NaN                      NaN   40595022   \n2                               NaN                      NaN   40595022   \n3                               NaN                      NaN   40595022   \n4                               NaN                      NaN   40595022   \n...                             ...                      ...        ...   \n308608                 4.922313e+09             4.446615e+09        NaN   \n308609                 2.573548e+08             2.194234e+08        NaN   \n308610                 4.923267e+09             4.449440e+09        NaN   \n308611                 2.574233e+08             2.194834e+08        NaN   \n308612                 4.941723e+09             4.468777e+09        NaN   \n\n       Area (sq_km) Continent  \n0            652230      Asia  \n1            652230      Asia  \n2            652230      Asia  \n3            652230      Asia  \n4            652230      Asia  \n...             ...       ...  \n308608          NaN       NAN  \n308609          NaN       NAN  \n308610          NaN       NAN  \n308611          NaN       NAN  \n308612          NaN       NAN  \n\n[308613 rows x 11 columns]",
      "text/html": "<div>\n<style scoped>\n    .dataframe tbody tr th:only-of-type {\n        vertical-align: middle;\n    }\n\n    .dataframe tbody tr th {\n        vertical-align: top;\n    }\n\n    .dataframe thead th {\n        text-align: right;\n    }\n</style>\n<table border=\"1\" class=\"dataframe\">\n  <thead>\n    <tr style=\"text-align: right;\">\n      <th></th>\n      <th>Country/Region</th>\n      <th>Date</th>\n      <th>Deaths</th>\n      <th>Recovered</th>\n      <th>Cases</th>\n      <th>Doses_admin</th>\n      <th>People_partially_vaccinated</th>\n      <th>People_fully_vaccinated</th>\n      <th>Population</th>\n      <th>Area (sq_km)</th>\n      <th>Continent</th>\n    </tr>\n  </thead>\n  <tbody>\n    <tr>\n      <th>0</th>\n      <td>Afghanistan</td>\n      <td>2020-01-22</td>\n      <td>0.0</td>\n      <td>0.0</td>\n      <td>0.0</td>\n      <td>NaN</td>\n      <td>NaN</td>\n      <td>NaN</td>\n      <td>40595022</td>\n      <td>652230</td>\n      <td>Asia</td>\n    </tr>\n    <tr>\n      <th>1</th>\n      <td>Afghanistan</td>\n      <td>2020-01-23</td>\n      <td>0.0</td>\n      <td>0.0</td>\n      <td>0.0</td>\n      <td>NaN</td>\n      <td>NaN</td>\n      <td>NaN</td>\n      <td>40595022</td>\n      <td>652230</td>\n      <td>Asia</td>\n    </tr>\n    <tr>\n      <th>2</th>\n      <td>Afghanistan</td>\n      <td>2020-01-24</td>\n      <td>0.0</td>\n      <td>0.0</td>\n      <td>0.0</td>\n      <td>NaN</td>\n      <td>NaN</td>\n      <td>NaN</td>\n      <td>40595022</td>\n      <td>652230</td>\n      <td>Asia</td>\n    </tr>\n    <tr>\n      <th>3</th>\n      <td>Afghanistan</td>\n      <td>2020-01-25</td>\n      <td>0.0</td>\n      <td>0.0</td>\n      <td>0.0</td>\n      <td>NaN</td>\n      <td>NaN</td>\n      <td>NaN</td>\n      <td>40595022</td>\n      <td>652230</td>\n      <td>Asia</td>\n    </tr>\n    <tr>\n      <th>4</th>\n      <td>Afghanistan</td>\n      <td>2020-01-26</td>\n      <td>0.0</td>\n      <td>0.0</td>\n      <td>0.0</td>\n      <td>NaN</td>\n      <td>NaN</td>\n      <td>NaN</td>\n      <td>40595022</td>\n      <td>652230</td>\n      <td>Asia</td>\n    </tr>\n    <tr>\n      <th>...</th>\n      <td>...</td>\n      <td>...</td>\n      <td>...</td>\n      <td>...</td>\n      <td>...</td>\n      <td>...</td>\n      <td>...</td>\n      <td>...</td>\n      <td>...</td>\n      <td>...</td>\n      <td>...</td>\n    </tr>\n    <tr>\n      <th>308608</th>\n      <td>World</td>\n      <td>2022-04-25</td>\n      <td>NaN</td>\n      <td>NaN</td>\n      <td>NaN</td>\n      <td>1.125401e+10</td>\n      <td>4.922313e+09</td>\n      <td>4.446615e+09</td>\n      <td>NaN</td>\n      <td>NaN</td>\n      <td>NAN</td>\n    </tr>\n    <tr>\n      <th>308609</th>\n      <td>US (Aggregate)</td>\n      <td>2022-04-26</td>\n      <td>NaN</td>\n      <td>NaN</td>\n      <td>NaN</td>\n      <td>5.715381e+08</td>\n      <td>2.573548e+08</td>\n      <td>2.194234e+08</td>\n      <td>NaN</td>\n      <td>NaN</td>\n      <td>NAN</td>\n    </tr>\n    <tr>\n      <th>308610</th>\n      <td>World</td>\n      <td>2022-04-26</td>\n      <td>NaN</td>\n      <td>NaN</td>\n      <td>NaN</td>\n      <td>1.126376e+10</td>\n      <td>4.923267e+09</td>\n      <td>4.449440e+09</td>\n      <td>NaN</td>\n      <td>NaN</td>\n      <td>NAN</td>\n    </tr>\n    <tr>\n      <th>308611</th>\n      <td>US (Aggregate)</td>\n      <td>2022-04-27</td>\n      <td>NaN</td>\n      <td>NaN</td>\n      <td>NaN</td>\n      <td>5.722165e+08</td>\n      <td>2.574233e+08</td>\n      <td>2.194834e+08</td>\n      <td>NaN</td>\n      <td>NaN</td>\n      <td>NAN</td>\n    </tr>\n    <tr>\n      <th>308612</th>\n      <td>World</td>\n      <td>2022-04-27</td>\n      <td>NaN</td>\n      <td>NaN</td>\n      <td>NaN</td>\n      <td>1.132536e+10</td>\n      <td>4.941723e+09</td>\n      <td>4.468777e+09</td>\n      <td>NaN</td>\n      <td>NaN</td>\n      <td>NAN</td>\n    </tr>\n  </tbody>\n</table>\n<p>308613 rows × 11 columns</p>\n</div>"
     },
     "execution_count": 129,
     "metadata": {},
     "output_type": "execute_result"
    }
   ],
   "source": [
    "full_data['Continent'] = Continent\n",
    "full_data"
   ],
   "metadata": {
    "collapsed": false,
    "pycharm": {
     "name": "#%%\n"
    }
   }
  },
  {
   "cell_type": "code",
   "execution_count": 131,
   "outputs": [],
   "source": [
    "full_data.to_csv('Covid_19_Full_Data.csv', index = False)"
   ],
   "metadata": {
    "collapsed": false,
    "pycharm": {
     "name": "#%%\n"
    }
   }
  },
  {
   "cell_type": "code",
   "execution_count": null,
   "outputs": [],
   "source": [],
   "metadata": {
    "collapsed": false,
    "pycharm": {
     "name": "#%%\n"
    }
   }
  },
  {
   "cell_type": "code",
   "execution_count": null,
   "outputs": [],
   "source": [],
   "metadata": {
    "collapsed": false,
    "pycharm": {
     "name": "#%%\n"
    }
   }
  }
 ],
 "metadata": {
  "kernelspec": {
   "display_name": "Python 3",
   "language": "python",
   "name": "python3"
  },
  "language_info": {
   "codemirror_mode": {
    "name": "ipython",
    "version": 2
   },
   "file_extension": ".py",
   "mimetype": "text/x-python",
   "name": "python",
   "nbconvert_exporter": "python",
   "pygments_lexer": "ipython2",
   "version": "2.7.6"
  }
 },
 "nbformat": 4,
 "nbformat_minor": 0
}